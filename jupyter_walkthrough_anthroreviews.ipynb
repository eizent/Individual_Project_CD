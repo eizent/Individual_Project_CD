{
 "cells": [
  {
   "cell_type": "markdown",
   "id": "acdac17d",
   "metadata": {},
   "source": [
    "# Preprocessing and Importing Corpus\n",
    "## Using the Annual Review of Anthropology "
   ]
  },
  {
   "cell_type": "markdown",
   "id": "2a5aba77",
   "metadata": {},
   "source": [
    " "
   ]
  },
  {
   "cell_type": "code",
   "execution_count": 1,
   "id": "13cc9211",
   "metadata": {
    "scrolled": true
   },
   "outputs": [
    {
     "name": "stdout",
     "output_type": "stream",
     "text": [
      "Requirement already satisfied: spaCy in /Users/macbookpro/anaconda3/lib/python3.11/site-packages (3.7.2)\n",
      "Requirement already satisfied: spacy-legacy<3.1.0,>=3.0.11 in /Users/macbookpro/anaconda3/lib/python3.11/site-packages (from spaCy) (3.0.12)\n",
      "Requirement already satisfied: spacy-loggers<2.0.0,>=1.0.0 in /Users/macbookpro/anaconda3/lib/python3.11/site-packages (from spaCy) (1.0.5)\n",
      "Requirement already satisfied: murmurhash<1.1.0,>=0.28.0 in /Users/macbookpro/anaconda3/lib/python3.11/site-packages (from spaCy) (1.0.10)\n",
      "Requirement already satisfied: cymem<2.1.0,>=2.0.2 in /Users/macbookpro/anaconda3/lib/python3.11/site-packages (from spaCy) (2.0.8)\n",
      "Requirement already satisfied: preshed<3.1.0,>=3.0.2 in /Users/macbookpro/anaconda3/lib/python3.11/site-packages (from spaCy) (3.0.9)\n",
      "Requirement already satisfied: thinc<8.3.0,>=8.1.8 in /Users/macbookpro/anaconda3/lib/python3.11/site-packages (from spaCy) (8.2.1)\n",
      "Requirement already satisfied: wasabi<1.2.0,>=0.9.1 in /Users/macbookpro/anaconda3/lib/python3.11/site-packages (from spaCy) (1.1.2)\n",
      "Requirement already satisfied: srsly<3.0.0,>=2.4.3 in /Users/macbookpro/anaconda3/lib/python3.11/site-packages (from spaCy) (2.4.8)\n",
      "Requirement already satisfied: catalogue<2.1.0,>=2.0.6 in /Users/macbookpro/anaconda3/lib/python3.11/site-packages (from spaCy) (2.0.10)\n",
      "Requirement already satisfied: weasel<0.4.0,>=0.1.0 in /Users/macbookpro/anaconda3/lib/python3.11/site-packages (from spaCy) (0.3.4)\n",
      "Requirement already satisfied: typer<0.10.0,>=0.3.0 in /Users/macbookpro/anaconda3/lib/python3.11/site-packages (from spaCy) (0.9.0)\n",
      "Requirement already satisfied: smart-open<7.0.0,>=5.2.1 in /Users/macbookpro/anaconda3/lib/python3.11/site-packages (from spaCy) (6.4.0)\n",
      "Requirement already satisfied: tqdm<5.0.0,>=4.38.0 in /Users/macbookpro/anaconda3/lib/python3.11/site-packages (from spaCy) (4.65.0)\n",
      "Requirement already satisfied: requests<3.0.0,>=2.13.0 in /Users/macbookpro/anaconda3/lib/python3.11/site-packages (from spaCy) (2.31.0)\n",
      "Requirement already satisfied: pydantic!=1.8,!=1.8.1,<3.0.0,>=1.7.4 in /Users/macbookpro/anaconda3/lib/python3.11/site-packages (from spaCy) (2.5.2)\n",
      "Requirement already satisfied: jinja2 in /Users/macbookpro/anaconda3/lib/python3.11/site-packages (from spaCy) (3.1.2)\n",
      "Requirement already satisfied: setuptools in /Users/macbookpro/anaconda3/lib/python3.11/site-packages (from spaCy) (68.0.0)\n",
      "Requirement already satisfied: packaging>=20.0 in /Users/macbookpro/anaconda3/lib/python3.11/site-packages (from spaCy) (23.1)\n",
      "Requirement already satisfied: langcodes<4.0.0,>=3.2.0 in /Users/macbookpro/anaconda3/lib/python3.11/site-packages (from spaCy) (3.3.0)\n",
      "Requirement already satisfied: numpy>=1.19.0 in /Users/macbookpro/anaconda3/lib/python3.11/site-packages (from spaCy) (1.26.0)\n",
      "Requirement already satisfied: annotated-types>=0.4.0 in /Users/macbookpro/anaconda3/lib/python3.11/site-packages (from pydantic!=1.8,!=1.8.1,<3.0.0,>=1.7.4->spaCy) (0.6.0)\n",
      "Requirement already satisfied: pydantic-core==2.14.5 in /Users/macbookpro/anaconda3/lib/python3.11/site-packages (from pydantic!=1.8,!=1.8.1,<3.0.0,>=1.7.4->spaCy) (2.14.5)\n",
      "Requirement already satisfied: typing-extensions>=4.6.1 in /Users/macbookpro/anaconda3/lib/python3.11/site-packages (from pydantic!=1.8,!=1.8.1,<3.0.0,>=1.7.4->spaCy) (4.7.1)\n",
      "Requirement already satisfied: charset-normalizer<4,>=2 in /Users/macbookpro/anaconda3/lib/python3.11/site-packages (from requests<3.0.0,>=2.13.0->spaCy) (2.0.4)\n",
      "Requirement already satisfied: idna<4,>=2.5 in /Users/macbookpro/anaconda3/lib/python3.11/site-packages (from requests<3.0.0,>=2.13.0->spaCy) (3.4)\n",
      "Requirement already satisfied: urllib3<3,>=1.21.1 in /Users/macbookpro/anaconda3/lib/python3.11/site-packages (from requests<3.0.0,>=2.13.0->spaCy) (1.26.16)\n",
      "Requirement already satisfied: certifi>=2017.4.17 in /Users/macbookpro/anaconda3/lib/python3.11/site-packages (from requests<3.0.0,>=2.13.0->spaCy) (2023.7.22)\n",
      "Requirement already satisfied: blis<0.8.0,>=0.7.8 in /Users/macbookpro/anaconda3/lib/python3.11/site-packages (from thinc<8.3.0,>=8.1.8->spaCy) (0.7.11)\n",
      "Requirement already satisfied: confection<1.0.0,>=0.0.1 in /Users/macbookpro/anaconda3/lib/python3.11/site-packages (from thinc<8.3.0,>=8.1.8->spaCy) (0.1.4)\n",
      "Requirement already satisfied: click<9.0.0,>=7.1.1 in /Users/macbookpro/anaconda3/lib/python3.11/site-packages (from typer<0.10.0,>=0.3.0->spaCy) (8.0.4)\n",
      "Requirement already satisfied: cloudpathlib<0.17.0,>=0.7.0 in /Users/macbookpro/anaconda3/lib/python3.11/site-packages (from weasel<0.4.0,>=0.1.0->spaCy) (0.16.0)\n",
      "Requirement already satisfied: MarkupSafe>=2.0 in /Users/macbookpro/anaconda3/lib/python3.11/site-packages (from jinja2->spaCy) (2.1.1)\n",
      "Note: you may need to restart the kernel to use updated packages.\n",
      "Requirement already satisfied: plotly in /Users/macbookpro/anaconda3/lib/python3.11/site-packages (5.18.0)\n",
      "Requirement already satisfied: tenacity>=6.2.0 in /Users/macbookpro/anaconda3/lib/python3.11/site-packages (from plotly) (8.2.3)\n",
      "Requirement already satisfied: packaging in /Users/macbookpro/anaconda3/lib/python3.11/site-packages (from plotly) (23.1)\n",
      "Note: you may need to restart the kernel to use updated packages.\n",
      "zsh:1: =5.1.2 not found\n",
      "Note: you may need to restart the kernel to use updated packages.\n"
     ]
    }
   ],
   "source": [
    "# Install and import spacy and plotly.\n",
    "%pip install spaCy\n",
    "%pip install plotly\n",
    "%pip install nbformat ==5.1.2\n"
   ]
  },
  {
   "cell_type": "code",
   "execution_count": 2,
   "id": "d473b4da",
   "metadata": {},
   "outputs": [
    {
     "name": "stdout",
     "output_type": "stream",
     "text": [
      "Collecting en-core-web-sm==3.7.1\n",
      "  Downloading https://github.com/explosion/spacy-models/releases/download/en_core_web_sm-3.7.1/en_core_web_sm-3.7.1-py3-none-any.whl (12.8 MB)\n",
      "\u001b[2K     \u001b[90m━━━━━━━━━━━━━━━━━━━━━━━━━━━━━━━━━━━━━━━━\u001b[0m \u001b[32m12.8/12.8 MB\u001b[0m \u001b[31m14.4 MB/s\u001b[0m eta \u001b[36m0:00:00\u001b[0m00:01\u001b[0m00:01\u001b[0m\n",
      "\u001b[?25hRequirement already satisfied: spacy<3.8.0,>=3.7.2 in /Users/macbookpro/anaconda3/lib/python3.11/site-packages (from en-core-web-sm==3.7.1) (3.7.2)\n",
      "Requirement already satisfied: spacy-legacy<3.1.0,>=3.0.11 in /Users/macbookpro/anaconda3/lib/python3.11/site-packages (from spacy<3.8.0,>=3.7.2->en-core-web-sm==3.7.1) (3.0.12)\n",
      "Requirement already satisfied: spacy-loggers<2.0.0,>=1.0.0 in /Users/macbookpro/anaconda3/lib/python3.11/site-packages (from spacy<3.8.0,>=3.7.2->en-core-web-sm==3.7.1) (1.0.5)\n",
      "Requirement already satisfied: murmurhash<1.1.0,>=0.28.0 in /Users/macbookpro/anaconda3/lib/python3.11/site-packages (from spacy<3.8.0,>=3.7.2->en-core-web-sm==3.7.1) (1.0.10)\n",
      "Requirement already satisfied: cymem<2.1.0,>=2.0.2 in /Users/macbookpro/anaconda3/lib/python3.11/site-packages (from spacy<3.8.0,>=3.7.2->en-core-web-sm==3.7.1) (2.0.8)\n",
      "Requirement already satisfied: preshed<3.1.0,>=3.0.2 in /Users/macbookpro/anaconda3/lib/python3.11/site-packages (from spacy<3.8.0,>=3.7.2->en-core-web-sm==3.7.1) (3.0.9)\n",
      "Requirement already satisfied: thinc<8.3.0,>=8.1.8 in /Users/macbookpro/anaconda3/lib/python3.11/site-packages (from spacy<3.8.0,>=3.7.2->en-core-web-sm==3.7.1) (8.2.1)\n",
      "Requirement already satisfied: wasabi<1.2.0,>=0.9.1 in /Users/macbookpro/anaconda3/lib/python3.11/site-packages (from spacy<3.8.0,>=3.7.2->en-core-web-sm==3.7.1) (1.1.2)\n",
      "Requirement already satisfied: srsly<3.0.0,>=2.4.3 in /Users/macbookpro/anaconda3/lib/python3.11/site-packages (from spacy<3.8.0,>=3.7.2->en-core-web-sm==3.7.1) (2.4.8)\n",
      "Requirement already satisfied: catalogue<2.1.0,>=2.0.6 in /Users/macbookpro/anaconda3/lib/python3.11/site-packages (from spacy<3.8.0,>=3.7.2->en-core-web-sm==3.7.1) (2.0.10)\n",
      "Requirement already satisfied: weasel<0.4.0,>=0.1.0 in /Users/macbookpro/anaconda3/lib/python3.11/site-packages (from spacy<3.8.0,>=3.7.2->en-core-web-sm==3.7.1) (0.3.4)\n",
      "Requirement already satisfied: typer<0.10.0,>=0.3.0 in /Users/macbookpro/anaconda3/lib/python3.11/site-packages (from spacy<3.8.0,>=3.7.2->en-core-web-sm==3.7.1) (0.9.0)\n",
      "Requirement already satisfied: smart-open<7.0.0,>=5.2.1 in /Users/macbookpro/anaconda3/lib/python3.11/site-packages (from spacy<3.8.0,>=3.7.2->en-core-web-sm==3.7.1) (6.4.0)\n",
      "Requirement already satisfied: tqdm<5.0.0,>=4.38.0 in /Users/macbookpro/anaconda3/lib/python3.11/site-packages (from spacy<3.8.0,>=3.7.2->en-core-web-sm==3.7.1) (4.65.0)\n",
      "Requirement already satisfied: requests<3.0.0,>=2.13.0 in /Users/macbookpro/anaconda3/lib/python3.11/site-packages (from spacy<3.8.0,>=3.7.2->en-core-web-sm==3.7.1) (2.31.0)\n",
      "Requirement already satisfied: pydantic!=1.8,!=1.8.1,<3.0.0,>=1.7.4 in /Users/macbookpro/anaconda3/lib/python3.11/site-packages (from spacy<3.8.0,>=3.7.2->en-core-web-sm==3.7.1) (2.5.2)\n",
      "Requirement already satisfied: jinja2 in /Users/macbookpro/anaconda3/lib/python3.11/site-packages (from spacy<3.8.0,>=3.7.2->en-core-web-sm==3.7.1) (3.1.2)\n",
      "Requirement already satisfied: setuptools in /Users/macbookpro/anaconda3/lib/python3.11/site-packages (from spacy<3.8.0,>=3.7.2->en-core-web-sm==3.7.1) (68.0.0)\n",
      "Requirement already satisfied: packaging>=20.0 in /Users/macbookpro/anaconda3/lib/python3.11/site-packages (from spacy<3.8.0,>=3.7.2->en-core-web-sm==3.7.1) (23.1)\n",
      "Requirement already satisfied: langcodes<4.0.0,>=3.2.0 in /Users/macbookpro/anaconda3/lib/python3.11/site-packages (from spacy<3.8.0,>=3.7.2->en-core-web-sm==3.7.1) (3.3.0)\n",
      "Requirement already satisfied: numpy>=1.19.0 in /Users/macbookpro/anaconda3/lib/python3.11/site-packages (from spacy<3.8.0,>=3.7.2->en-core-web-sm==3.7.1) (1.26.0)\n",
      "Requirement already satisfied: annotated-types>=0.4.0 in /Users/macbookpro/anaconda3/lib/python3.11/site-packages (from pydantic!=1.8,!=1.8.1,<3.0.0,>=1.7.4->spacy<3.8.0,>=3.7.2->en-core-web-sm==3.7.1) (0.6.0)\n",
      "Requirement already satisfied: pydantic-core==2.14.5 in /Users/macbookpro/anaconda3/lib/python3.11/site-packages (from pydantic!=1.8,!=1.8.1,<3.0.0,>=1.7.4->spacy<3.8.0,>=3.7.2->en-core-web-sm==3.7.1) (2.14.5)\n",
      "Requirement already satisfied: typing-extensions>=4.6.1 in /Users/macbookpro/anaconda3/lib/python3.11/site-packages (from pydantic!=1.8,!=1.8.1,<3.0.0,>=1.7.4->spacy<3.8.0,>=3.7.2->en-core-web-sm==3.7.1) (4.7.1)\n",
      "Requirement already satisfied: charset-normalizer<4,>=2 in /Users/macbookpro/anaconda3/lib/python3.11/site-packages (from requests<3.0.0,>=2.13.0->spacy<3.8.0,>=3.7.2->en-core-web-sm==3.7.1) (2.0.4)\n",
      "Requirement already satisfied: idna<4,>=2.5 in /Users/macbookpro/anaconda3/lib/python3.11/site-packages (from requests<3.0.0,>=2.13.0->spacy<3.8.0,>=3.7.2->en-core-web-sm==3.7.1) (3.4)\n",
      "Requirement already satisfied: urllib3<3,>=1.21.1 in /Users/macbookpro/anaconda3/lib/python3.11/site-packages (from requests<3.0.0,>=2.13.0->spacy<3.8.0,>=3.7.2->en-core-web-sm==3.7.1) (1.26.16)\n",
      "Requirement already satisfied: certifi>=2017.4.17 in /Users/macbookpro/anaconda3/lib/python3.11/site-packages (from requests<3.0.0,>=2.13.0->spacy<3.8.0,>=3.7.2->en-core-web-sm==3.7.1) (2023.7.22)\n",
      "Requirement already satisfied: blis<0.8.0,>=0.7.8 in /Users/macbookpro/anaconda3/lib/python3.11/site-packages (from thinc<8.3.0,>=8.1.8->spacy<3.8.0,>=3.7.2->en-core-web-sm==3.7.1) (0.7.11)\n",
      "Requirement already satisfied: confection<1.0.0,>=0.0.1 in /Users/macbookpro/anaconda3/lib/python3.11/site-packages (from thinc<8.3.0,>=8.1.8->spacy<3.8.0,>=3.7.2->en-core-web-sm==3.7.1) (0.1.4)\n",
      "Requirement already satisfied: click<9.0.0,>=7.1.1 in /Users/macbookpro/anaconda3/lib/python3.11/site-packages (from typer<0.10.0,>=0.3.0->spacy<3.8.0,>=3.7.2->en-core-web-sm==3.7.1) (8.0.4)\n",
      "Requirement already satisfied: cloudpathlib<0.17.0,>=0.7.0 in /Users/macbookpro/anaconda3/lib/python3.11/site-packages (from weasel<0.4.0,>=0.1.0->spacy<3.8.0,>=3.7.2->en-core-web-sm==3.7.1) (0.16.0)\n",
      "Requirement already satisfied: MarkupSafe>=2.0 in /Users/macbookpro/anaconda3/lib/python3.11/site-packages (from jinja2->spacy<3.8.0,>=3.7.2->en-core-web-sm==3.7.1) (2.1.1)\n",
      "\u001b[38;5;2m✔ Download and installation successful\u001b[0m\n",
      "You can now load the package via spacy.load('en_core_web_sm')\n"
     ]
    }
   ],
   "source": [
    "# Import spacy\n",
    "import spacy\n",
    "\n",
    "# Install English language model\n",
    "!spacy download en_core_web_sm\n",
    "\n",
    "# Import os to upload documents and metadata\n",
    "import os\n",
    "\n",
    "# Load spaCy visualizer\n",
    "from spacy import displacy\n",
    "\n",
    "# Import pandas DataFrame packages\n",
    "import pandas as pd\n",
    "pd.options.mode.chained_assignment = None  # default='warn'\n",
    "\n",
    "# Import graphing package\n",
    "import plotly.graph_objects as go\n",
    "import plotly.express as px"
   ]
  },
  {
   "cell_type": "code",
   "execution_count": 3,
   "id": "1c0cd4ef",
   "metadata": {},
   "outputs": [],
   "source": [
    "# Create empty lists for file names and contents\n",
    "texts = []\n",
    "file_names = []\n",
    "\n",
    "# Iterate through each file in the folder\n",
    "for _file_name in os.listdir('anthroreview_txt_files'):\n",
    "# Look for only text files\n",
    "    if _file_name.endswith('.txt'):\n",
    "    # Append contents of each text file to text list\n",
    "        texts.append(open('anthroreview_txt_files' + '/' + _file_name, 'r', encoding='utf-8').read())\n",
    "        # Append name of each file to file name list\n",
    "        file_names.append(_file_name)"
   ]
  },
  {
   "cell_type": "code",
   "execution_count": 4,
   "id": "a978b964",
   "metadata": {},
   "outputs": [],
   "source": [
    "# Create dictionary object associating each file name with its text\n",
    "filename_dictionary = {'Filename':file_names,'Text':texts}"
   ]
  },
  {
   "cell_type": "code",
   "execution_count": 5,
   "id": "f73ce575",
   "metadata": {},
   "outputs": [],
   "source": [
    "reviews_df = pd.DataFrame(filename_dictionary)"
   ]
  },
  {
   "cell_type": "code",
   "execution_count": 6,
   "id": "22974b3a",
   "metadata": {},
   "outputs": [
    {
     "data": {
      "text/html": [
       "<div>\n",
       "<style scoped>\n",
       "    .dataframe tbody tr th:only-of-type {\n",
       "        vertical-align: middle;\n",
       "    }\n",
       "\n",
       "    .dataframe tbody tr th {\n",
       "        vertical-align: top;\n",
       "    }\n",
       "\n",
       "    .dataframe thead th {\n",
       "        text-align: right;\n",
       "    }\n",
       "</style>\n",
       "<table border=\"1\" class=\"dataframe\">\n",
       "  <thead>\n",
       "    <tr style=\"text-align: right;\">\n",
       "      <th></th>\n",
       "      <th>Filename</th>\n",
       "      <th>Text</th>\n",
       "    </tr>\n",
       "  </thead>\n",
       "  <tbody>\n",
       "    <tr>\n",
       "      <th>0</th>\n",
       "      <td>vol1.2.txt</td>\n",
       "      <td>Conceptual Progress in Physical Anthropology: ...</td>\n",
       "    </tr>\n",
       "    <tr>\n",
       "      <th>1</th>\n",
       "      <td>vol52.13.txt</td>\n",
       "      <td>Biocultural Lactation: Integrated Approaches ...</td>\n",
       "    </tr>\n",
       "    <tr>\n",
       "      <th>2</th>\n",
       "      <td>vol52.12.txt</td>\n",
       "      <td>Gut Microbial Intersections with Human Ecolog...</td>\n",
       "    </tr>\n",
       "    <tr>\n",
       "      <th>3</th>\n",
       "      <td>vol1.3.txt</td>\n",
       "      <td>Studies of Modern Man\\\\nThis review of studies...</td>\n",
       "    </tr>\n",
       "    <tr>\n",
       "      <th>4</th>\n",
       "      <td>vol1.1.txt</td>\n",
       "      <td>Culture as Behavior: Structure and Emergence\\n...</td>\n",
       "    </tr>\n",
       "  </tbody>\n",
       "</table>\n",
       "</div>"
      ],
      "text/plain": [
       "       Filename                                               Text\n",
       "0    vol1.2.txt  Conceptual Progress in Physical Anthropology: ...\n",
       "1  vol52.13.txt   Biocultural Lactation: Integrated Approaches ...\n",
       "2  vol52.12.txt   Gut Microbial Intersections with Human Ecolog...\n",
       "3    vol1.3.txt  Studies of Modern Man\\\\nThis review of studies...\n",
       "4    vol1.1.txt  Culture as Behavior: Structure and Emergence\\n..."
      ]
     },
     "execution_count": 6,
     "metadata": {},
     "output_type": "execute_result"
    }
   ],
   "source": [
    "reviews_df.head()"
   ]
  },
  {
   "cell_type": "code",
   "execution_count": 32,
   "id": "dfabe30e",
   "metadata": {},
   "outputs": [
    {
     "data": {
      "text/html": [
       "<div>\n",
       "<style scoped>\n",
       "    .dataframe tbody tr th:only-of-type {\n",
       "        vertical-align: middle;\n",
       "    }\n",
       "\n",
       "    .dataframe tbody tr th {\n",
       "        vertical-align: top;\n",
       "    }\n",
       "\n",
       "    .dataframe thead th {\n",
       "        text-align: right;\n",
       "    }\n",
       "</style>\n",
       "<table border=\"1\" class=\"dataframe\">\n",
       "  <thead>\n",
       "    <tr style=\"text-align: right;\">\n",
       "      <th></th>\n",
       "      <th>Filename</th>\n",
       "      <th>Text</th>\n",
       "    </tr>\n",
       "  </thead>\n",
       "  <tbody>\n",
       "    <tr>\n",
       "      <th>0</th>\n",
       "      <td>vol1.2</td>\n",
       "      <td>Conceptual Progress in Physical Anthropology: ...</td>\n",
       "    </tr>\n",
       "    <tr>\n",
       "      <th>1</th>\n",
       "      <td>vol52.13</td>\n",
       "      <td>Biocultural Lactation: Integrated Approaches t...</td>\n",
       "    </tr>\n",
       "    <tr>\n",
       "      <th>2</th>\n",
       "      <td>vol52.12</td>\n",
       "      <td>Gut Microbial Intersections with Human Ecology...</td>\n",
       "    </tr>\n",
       "    <tr>\n",
       "      <th>3</th>\n",
       "      <td>vol1.3</td>\n",
       "      <td>Studies of Modern Man\\ This review of studies ...</td>\n",
       "    </tr>\n",
       "    <tr>\n",
       "      <th>4</th>\n",
       "      <td>vol1.1</td>\n",
       "      <td>Culture as Behavior: Structure and Emergence T...</td>\n",
       "    </tr>\n",
       "  </tbody>\n",
       "</table>\n",
       "</div>"
      ],
      "text/plain": [
       "   Filename                                               Text\n",
       "0    vol1.2  Conceptual Progress in Physical Anthropology: ...\n",
       "1  vol52.13  Biocultural Lactation: Integrated Approaches t...\n",
       "2  vol52.12  Gut Microbial Intersections with Human Ecology...\n",
       "3    vol1.3  Studies of Modern Man\\ This review of studies ...\n",
       "4    vol1.1  Culture as Behavior: Structure and Emergence T..."
      ]
     },
     "execution_count": 32,
     "metadata": {},
     "output_type": "execute_result"
    }
   ],
   "source": [
    "# Remove extra spaces from papers\n",
    "reviews_df['Text'] = reviews_df['Text'].str.replace('\\s+', ' ', regex=True).str.strip()\n",
    "reviews_df.head()"
   ]
  },
  {
   "cell_type": "code",
   "execution_count": 33,
   "id": "90897bb8",
   "metadata": {},
   "outputs": [
    {
     "data": {
      "text/html": [
       "<div>\n",
       "<style scoped>\n",
       "    .dataframe tbody tr th:only-of-type {\n",
       "        vertical-align: middle;\n",
       "    }\n",
       "\n",
       "    .dataframe tbody tr th {\n",
       "        vertical-align: top;\n",
       "    }\n",
       "\n",
       "    .dataframe thead th {\n",
       "        text-align: right;\n",
       "    }\n",
       "</style>\n",
       "<table border=\"1\" class=\"dataframe\">\n",
       "  <thead>\n",
       "    <tr style=\"text-align: right;\">\n",
       "      <th></th>\n",
       "      <th>title</th>\n",
       "      <th>author</th>\n",
       "      <th>year</th>\n",
       "      <th>text_filename</th>\n",
       "    </tr>\n",
       "  </thead>\n",
       "  <tbody>\n",
       "    <tr>\n",
       "      <th>0</th>\n",
       "      <td>Culture as Behavior: Structure and Emergence</td>\n",
       "      <td>Conrad M. Arensberg</td>\n",
       "      <td>1972</td>\n",
       "      <td>vol1.1</td>\n",
       "    </tr>\n",
       "    <tr>\n",
       "      <th>1</th>\n",
       "      <td>Conceptual Progress in Physical Anthropology: ...</td>\n",
       "      <td>Bernard G. Campbell</td>\n",
       "      <td>1972</td>\n",
       "      <td>vol1.2</td>\n",
       "    </tr>\n",
       "    <tr>\n",
       "      <th>2</th>\n",
       "      <td>Studies of Modern Man</td>\n",
       "      <td>D. F. Roberts and J. C. Bear</td>\n",
       "      <td>1972</td>\n",
       "      <td>vol1.3</td>\n",
       "    </tr>\n",
       "    <tr>\n",
       "      <th>3</th>\n",
       "      <td>Dating Methods</td>\n",
       "      <td>Joseph W. Michels</td>\n",
       "      <td>1972</td>\n",
       "      <td>vol1.4</td>\n",
       "    </tr>\n",
       "    <tr>\n",
       "      <th>4</th>\n",
       "      <td>Archaeological Settlement Patterns</td>\n",
       "      <td>Jeffrey R. Parsons</td>\n",
       "      <td>1972</td>\n",
       "      <td>vol1.5</td>\n",
       "    </tr>\n",
       "  </tbody>\n",
       "</table>\n",
       "</div>"
      ],
      "text/plain": [
       "                                               title  \\\n",
       "0       Culture as Behavior: Structure and Emergence   \n",
       "1  Conceptual Progress in Physical Anthropology: ...   \n",
       "2                              Studies of Modern Man   \n",
       "3                                     Dating Methods   \n",
       "4                 Archaeological Settlement Patterns   \n",
       "\n",
       "                         author  year text_filename  \n",
       "0           Conrad M. Arensberg  1972        vol1.1  \n",
       "1           Bernard G. Campbell  1972        vol1.2  \n",
       "2  D. F. Roberts and J. C. Bear  1972        vol1.3  \n",
       "3             Joseph W. Michels  1972        vol1.4  \n",
       "4            Jeffrey R. Parsons  1972        vol1.5  "
      ]
     },
     "execution_count": 33,
     "metadata": {},
     "output_type": "execute_result"
    }
   ],
   "source": [
    "# Load metadata.\n",
    "metadata_df = pd.read_csv('anthro_reviews.csv')\n",
    "metadata_df.head()"
   ]
  },
  {
   "cell_type": "code",
   "execution_count": 34,
   "id": "dc1c0743",
   "metadata": {},
   "outputs": [],
   "source": [
    "# Remove .txt from title of each paper\n",
    "reviews_df['Filename'] = reviews_df['Filename'].str.replace('.txt', '', regex=True)\n",
    "\n",
    "# Rename column from paper ID to Title\n",
    "metadata_df.rename(columns={\"text_filename\": \"Filename\"}, inplace=True)"
   ]
  },
  {
   "cell_type": "code",
   "execution_count": 35,
   "id": "c336ff25",
   "metadata": {},
   "outputs": [],
   "source": [
    "# Merge metadata and papers into new DataFrame\n",
    "# Will only keep rows where both essay and metadata are present\n",
    "merge_df = metadata_df.merge(reviews_df,on='Filename')"
   ]
  },
  {
   "cell_type": "code",
   "execution_count": 36,
   "id": "52825048",
   "metadata": {
    "scrolled": false
   },
   "outputs": [
    {
     "data": {
      "text/html": [
       "<div>\n",
       "<style scoped>\n",
       "    .dataframe tbody tr th:only-of-type {\n",
       "        vertical-align: middle;\n",
       "    }\n",
       "\n",
       "    .dataframe tbody tr th {\n",
       "        vertical-align: top;\n",
       "    }\n",
       "\n",
       "    .dataframe thead th {\n",
       "        text-align: right;\n",
       "    }\n",
       "</style>\n",
       "<table border=\"1\" class=\"dataframe\">\n",
       "  <thead>\n",
       "    <tr style=\"text-align: right;\">\n",
       "      <th></th>\n",
       "      <th>title</th>\n",
       "      <th>author</th>\n",
       "      <th>year</th>\n",
       "      <th>Filename</th>\n",
       "      <th>Text</th>\n",
       "    </tr>\n",
       "  </thead>\n",
       "  <tbody>\n",
       "    <tr>\n",
       "      <th>0</th>\n",
       "      <td>Culture as Behavior: Structure and Emergence</td>\n",
       "      <td>Conrad M. Arensberg</td>\n",
       "      <td>1972</td>\n",
       "      <td>vol1.1</td>\n",
       "      <td>Culture as Behavior: Structure and Emergence T...</td>\n",
       "    </tr>\n",
       "    <tr>\n",
       "      <th>1</th>\n",
       "      <td>Conceptual Progress in Physical Anthropology: ...</td>\n",
       "      <td>Bernard G. Campbell</td>\n",
       "      <td>1972</td>\n",
       "      <td>vol1.2</td>\n",
       "      <td>Conceptual Progress in Physical Anthropology: ...</td>\n",
       "    </tr>\n",
       "    <tr>\n",
       "      <th>2</th>\n",
       "      <td>Studies of Modern Man</td>\n",
       "      <td>D. F. Roberts and J. C. Bear</td>\n",
       "      <td>1972</td>\n",
       "      <td>vol1.3</td>\n",
       "      <td>Studies of Modern Man\\ This review of studies ...</td>\n",
       "    </tr>\n",
       "    <tr>\n",
       "      <th>3</th>\n",
       "      <td>Dating Methods</td>\n",
       "      <td>Joseph W. Michels</td>\n",
       "      <td>1972</td>\n",
       "      <td>vol1.4</td>\n",
       "      <td>Dating Methods\\ Archaeological dating has unde...</td>\n",
       "    </tr>\n",
       "    <tr>\n",
       "      <th>4</th>\n",
       "      <td>Archaeological Settlement Patterns</td>\n",
       "      <td>Jeffrey R. Parsons</td>\n",
       "      <td>1972</td>\n",
       "      <td>vol1.5</td>\n",
       "      <td>Archaeological Settlement Patterns\\ This paper...</td>\n",
       "    </tr>\n",
       "  </tbody>\n",
       "</table>\n",
       "</div>"
      ],
      "text/plain": [
       "                                               title  \\\n",
       "0       Culture as Behavior: Structure and Emergence   \n",
       "1  Conceptual Progress in Physical Anthropology: ...   \n",
       "2                              Studies of Modern Man   \n",
       "3                                     Dating Methods   \n",
       "4                 Archaeological Settlement Patterns   \n",
       "\n",
       "                         author  year Filename  \\\n",
       "0           Conrad M. Arensberg  1972   vol1.1   \n",
       "1           Bernard G. Campbell  1972   vol1.2   \n",
       "2  D. F. Roberts and J. C. Bear  1972   vol1.3   \n",
       "3             Joseph W. Michels  1972   vol1.4   \n",
       "4            Jeffrey R. Parsons  1972   vol1.5   \n",
       "\n",
       "                                                Text  \n",
       "0  Culture as Behavior: Structure and Emergence T...  \n",
       "1  Conceptual Progress in Physical Anthropology: ...  \n",
       "2  Studies of Modern Man\\ This review of studies ...  \n",
       "3  Dating Methods\\ Archaeological dating has unde...  \n",
       "4  Archaeological Settlement Patterns\\ This paper...  "
      ]
     },
     "execution_count": 36,
     "metadata": {},
     "output_type": "execute_result"
    }
   ],
   "source": [
    "# Print DataFrame\n",
    "merge_df.head()"
   ]
  },
  {
   "cell_type": "markdown",
   "id": "06639f89",
   "metadata": {},
   "source": [
    "# Text Enrichment and Tokenization\n",
    "Based on Corpus Analysis with spaCy by Megan Kane"
   ]
  },
  {
   "cell_type": "code",
   "execution_count": 37,
   "id": "be2df0c3",
   "metadata": {},
   "outputs": [
    {
     "name": "stdout",
     "output_type": "stream",
     "text": [
      "['tok2vec', 'tagger', 'parser', 'attribute_ruler', 'lemmatizer', 'ner']\n"
     ]
    }
   ],
   "source": [
    "# Load nlp pipeline\n",
    "nlp = spacy.load('en_core_web_sm')\n",
    "\n",
    "# Check what functions it performs\n",
    "print(nlp.pipe_names)"
   ]
  },
  {
   "cell_type": "code",
   "execution_count": 38,
   "id": "e294768d",
   "metadata": {},
   "outputs": [],
   "source": [
    "# Define a function that runs the nlp pipeline on any given input text\n",
    "def process_text(text):\n",
    "    return nlp(text)"
   ]
  },
  {
   "cell_type": "code",
   "execution_count": 39,
   "id": "ec8cbba6",
   "metadata": {},
   "outputs": [],
   "source": [
    "# Apply the function to the \"Text\" column, so that the nlp pipeline is called on each text sample\n",
    "merge_df['Doc'] = merge_df['Text'].apply(process_text)"
   ]
  },
  {
   "cell_type": "code",
   "execution_count": 40,
   "id": "6e973796",
   "metadata": {},
   "outputs": [],
   "source": [
    "# Define a function to retrieve tokens from a doc object\n",
    "def get_token(doc):\n",
    "    return [(token.text) for token in doc]"
   ]
  },
  {
   "cell_type": "code",
   "execution_count": 42,
   "id": "69c69fe6",
   "metadata": {},
   "outputs": [
    {
     "data": {
      "text/html": [
       "<div>\n",
       "<style scoped>\n",
       "    .dataframe tbody tr th:only-of-type {\n",
       "        vertical-align: middle;\n",
       "    }\n",
       "\n",
       "    .dataframe tbody tr th {\n",
       "        vertical-align: top;\n",
       "    }\n",
       "\n",
       "    .dataframe thead th {\n",
       "        text-align: right;\n",
       "    }\n",
       "</style>\n",
       "<table border=\"1\" class=\"dataframe\">\n",
       "  <thead>\n",
       "    <tr style=\"text-align: right;\">\n",
       "      <th></th>\n",
       "      <th>title</th>\n",
       "      <th>author</th>\n",
       "      <th>year</th>\n",
       "      <th>Filename</th>\n",
       "      <th>Text</th>\n",
       "      <th>Doc</th>\n",
       "      <th>Tokens</th>\n",
       "    </tr>\n",
       "  </thead>\n",
       "  <tbody>\n",
       "    <tr>\n",
       "      <th>0</th>\n",
       "      <td>Culture as Behavior: Structure and Emergence</td>\n",
       "      <td>Conrad M. Arensberg</td>\n",
       "      <td>1972</td>\n",
       "      <td>vol1.1</td>\n",
       "      <td>Culture as Behavior: Structure and Emergence T...</td>\n",
       "      <td>(Culture, as, Behavior, :, Structure, and, Eme...</td>\n",
       "      <td>[Culture, as, Behavior, :, Structure, and, Eme...</td>\n",
       "    </tr>\n",
       "    <tr>\n",
       "      <th>1</th>\n",
       "      <td>Conceptual Progress in Physical Anthropology: ...</td>\n",
       "      <td>Bernard G. Campbell</td>\n",
       "      <td>1972</td>\n",
       "      <td>vol1.2</td>\n",
       "      <td>Conceptual Progress in Physical Anthropology: ...</td>\n",
       "      <td>(Conceptual, Progress, in, Physical, Anthropol...</td>\n",
       "      <td>[Conceptual, Progress, in, Physical, Anthropol...</td>\n",
       "    </tr>\n",
       "    <tr>\n",
       "      <th>2</th>\n",
       "      <td>Studies of Modern Man</td>\n",
       "      <td>D. F. Roberts and J. C. Bear</td>\n",
       "      <td>1972</td>\n",
       "      <td>vol1.3</td>\n",
       "      <td>Studies of Modern Man\\ This review of studies ...</td>\n",
       "      <td>(Studies, of, Modern, Man\\, This, review, of, ...</td>\n",
       "      <td>[Studies, of, Modern, Man\\, This, review, of, ...</td>\n",
       "    </tr>\n",
       "    <tr>\n",
       "      <th>3</th>\n",
       "      <td>Dating Methods</td>\n",
       "      <td>Joseph W. Michels</td>\n",
       "      <td>1972</td>\n",
       "      <td>vol1.4</td>\n",
       "      <td>Dating Methods\\ Archaeological dating has unde...</td>\n",
       "      <td>(Dating, Methods\\, Archaeological, dating, has...</td>\n",
       "      <td>[Dating, Methods\\, Archaeological, dating, has...</td>\n",
       "    </tr>\n",
       "    <tr>\n",
       "      <th>4</th>\n",
       "      <td>Archaeological Settlement Patterns</td>\n",
       "      <td>Jeffrey R. Parsons</td>\n",
       "      <td>1972</td>\n",
       "      <td>vol1.5</td>\n",
       "      <td>Archaeological Settlement Patterns\\ This paper...</td>\n",
       "      <td>(Archaeological, Settlement, Patterns\\, This, ...</td>\n",
       "      <td>[Archaeological, Settlement, Patterns\\, This, ...</td>\n",
       "    </tr>\n",
       "  </tbody>\n",
       "</table>\n",
       "</div>"
      ],
      "text/plain": [
       "                                               title  \\\n",
       "0       Culture as Behavior: Structure and Emergence   \n",
       "1  Conceptual Progress in Physical Anthropology: ...   \n",
       "2                              Studies of Modern Man   \n",
       "3                                     Dating Methods   \n",
       "4                 Archaeological Settlement Patterns   \n",
       "\n",
       "                         author  year Filename  \\\n",
       "0           Conrad M. Arensberg  1972   vol1.1   \n",
       "1           Bernard G. Campbell  1972   vol1.2   \n",
       "2  D. F. Roberts and J. C. Bear  1972   vol1.3   \n",
       "3             Joseph W. Michels  1972   vol1.4   \n",
       "4            Jeffrey R. Parsons  1972   vol1.5   \n",
       "\n",
       "                                                Text  \\\n",
       "0  Culture as Behavior: Structure and Emergence T...   \n",
       "1  Conceptual Progress in Physical Anthropology: ...   \n",
       "2  Studies of Modern Man\\ This review of studies ...   \n",
       "3  Dating Methods\\ Archaeological dating has unde...   \n",
       "4  Archaeological Settlement Patterns\\ This paper...   \n",
       "\n",
       "                                                 Doc  \\\n",
       "0  (Culture, as, Behavior, :, Structure, and, Eme...   \n",
       "1  (Conceptual, Progress, in, Physical, Anthropol...   \n",
       "2  (Studies, of, Modern, Man\\, This, review, of, ...   \n",
       "3  (Dating, Methods\\, Archaeological, dating, has...   \n",
       "4  (Archaeological, Settlement, Patterns\\, This, ...   \n",
       "\n",
       "                                              Tokens  \n",
       "0  [Culture, as, Behavior, :, Structure, and, Eme...  \n",
       "1  [Conceptual, Progress, in, Physical, Anthropol...  \n",
       "2  [Studies, of, Modern, Man\\, This, review, of, ...  \n",
       "3  [Dating, Methods\\, Archaeological, dating, has...  \n",
       "4  [Archaeological, Settlement, Patterns\\, This, ...  "
      ]
     },
     "execution_count": 42,
     "metadata": {},
     "output_type": "execute_result"
    }
   ],
   "source": [
    "# Run the token retrieval function on the doc objects in the dataframe\n",
    "merge_df['Tokens'] = merge_df['Doc'].apply(get_token)\n",
    "merge_df.head()"
   ]
  },
  {
   "cell_type": "markdown",
   "id": "658587d3",
   "metadata": {},
   "source": [
    "#### Lemmatization "
   ]
  },
  {
   "cell_type": "code",
   "execution_count": 43,
   "id": "769a3d7b",
   "metadata": {},
   "outputs": [],
   "source": [
    "# Define a function to retrieve lemmas from a doc object\n",
    "def get_lemma(doc):\n",
    "    return [(token.lemma_) for token in doc]\n",
    "\n",
    "# Run the lemma retrieval function on the doc objects in the dataframe\n",
    "merge_df['Lemmas'] = merge_df['Doc'].apply(get_lemma)"
   ]
  },
  {
   "cell_type": "code",
   "execution_count": 44,
   "id": "8b033a91",
   "metadata": {},
   "outputs": [
    {
     "name": "stdout",
     "output_type": "stream",
     "text": [
      "\"Anthropology\" appears in the text tokens column 58 times.\n",
      "\"Anthropology\" appears in the lemmas column 62 times.\n"
     ]
    }
   ],
   "source": [
    "print(f'\"Anthropology\" appears in the text tokens column ' + str(merge_df['Tokens'].apply(lambda x: x.count('anthropology')).sum()) + ' times.')\n",
    "print(f'\"Anthropology\" appears in the lemmas column ' + str(merge_df['Lemmas'].apply(lambda x: x.count('anthropology')).sum()) + ' times.')"
   ]
  },
  {
   "cell_type": "markdown",
   "id": "5ec23cad",
   "metadata": {},
   "source": [
    "#### Text Annotation"
   ]
  },
  {
   "cell_type": "code",
   "execution_count": 45,
   "id": "eef0a14e",
   "metadata": {},
   "outputs": [],
   "source": [
    "# Define a function to retrieve lemmas from a doc object\n",
    "def get_pos(doc):\n",
    "    #Return the coarse- and fine-grained part of speech text for each token in the doc\n",
    "    return [(token.pos_, token.tag_) for token in doc]\n",
    "\n",
    "# Define a function to retrieve parts of speech from a doc object\n",
    "merge_df['POS'] = merge_df['Doc'].apply(get_pos)"
   ]
  },
  {
   "cell_type": "code",
   "execution_count": 84,
   "id": "8373fa7d",
   "metadata": {},
   "outputs": [],
   "source": [
    "# Create a list of part of speech tags\n",
    "pos_list =  list(merge_df['POS'])"
   ]
  },
  {
   "cell_type": "code",
   "execution_count": 87,
   "id": "631fa58c",
   "metadata": {},
   "outputs": [
    {
     "data": {
      "text/plain": [
       "[('NOUN', 'NN'),\n",
       " ('ADP', 'IN'),\n",
       " ('NOUN', 'NN'),\n",
       " ('PUNCT', ':'),\n",
       " ('PROPN', 'NNP'),\n",
       " ('CCONJ', 'CC'),\n",
       " ('PROPN', 'NNP'),\n",
       " ('DET', 'DT'),\n",
       " ('ADJ', 'JJ'),\n",
       " ('NOUN', 'NN'),\n",
       " ('ADP', 'IN'),\n",
       " ('DET', 'DT'),\n",
       " ('NOUN', 'NN'),\n",
       " ('CCONJ', 'CC'),\n",
       " ('VERB', 'VB'),\n",
       " ('NOUN', 'NN'),\n",
       " ('ADP', 'IN'),\n",
       " ('NOUN', 'NN'),\n",
       " ('PRON', 'WDT'),\n",
       " ('AUX', 'VBZ'),\n",
       " ('PART', 'TO'),\n",
       " ('VERB', 'VB'),\n",
       " ('DET', 'DT'),\n",
       " ('NOUN', 'NN'),\n",
       " ('VERB', 'VBZ'),\n",
       " ('DET', 'DT'),\n",
       " ('NOUN', 'NN'),\n",
       " ('ADP', 'IN'),\n",
       " ('ADJ', 'JJ'),\n",
       " ('NOUN', 'NN'),\n",
       " ('ADP', 'IN'),\n",
       " ('ADJ', 'JJ'),\n",
       " ('ADJ', 'JJ'),\n",
       " ('NOUN', 'NNS'),\n",
       " ('PUNCT', '.'),\n",
       " ('PRON', 'PRP$'),\n",
       " ('ADJ', 'JJ'),\n",
       " ('NOUN', 'NN'),\n",
       " ('ADP', 'IN'),\n",
       " ('NOUN', 'NN'),\n",
       " ('PUNCT', 'HYPH'),\n",
       " ('NOUN', 'NN'),\n",
       " ('CCONJ', 'CC'),\n",
       " ('PRON', 'PRP$'),\n",
       " ('ADJ', 'JJ'),\n",
       " ('NOUN', 'NN'),\n",
       " ('ADP', 'IN'),\n",
       " ('DET', 'DT'),\n",
       " ('ADJ', 'JJ'),\n",
       " ('NOUN', 'NNS'),\n",
       " ('ADP', 'IN'),\n",
       " ('ADJ', 'JJ'),\n",
       " ('NOUN', 'NN'),\n",
       " ('NOUN', 'NN'),\n",
       " ('ADP', 'IN'),\n",
       " ('PRON', 'PRP$'),\n",
       " ('VERB', 'VBG'),\n",
       " ('NOUN', 'NN'),\n",
       " ('PUNCT', '.'),\n",
       " ('NOUN', 'NN'),\n",
       " ('AUX', 'VBZ'),\n",
       " ('ADV', 'RB'),\n",
       " ('DET', 'DT'),\n",
       " ('ADJ', 'JJ'),\n",
       " ('NOUN', 'NN'),\n",
       " ('ADP', 'IN'),\n",
       " ('ADJ', 'JJ'),\n",
       " ('NOUN', 'NN'),\n",
       " ('CCONJ', 'CC'),\n",
       " ('ADJ', 'JJ'),\n",
       " ('NOUN', 'NN'),\n",
       " ('PUNCT', '.'),\n",
       " ('PRON', 'PRP$'),\n",
       " ('NOUN', 'NNS'),\n",
       " ('AUX', 'VBP'),\n",
       " ('PRON', 'DT'),\n",
       " ('PRON', 'WDT'),\n",
       " ('VERB', 'VBP'),\n",
       " ('PUNCT', ','),\n",
       " ('ADP', 'IN'),\n",
       " ('NUM', 'CD'),\n",
       " ('NOUN', 'NN'),\n",
       " ('CCONJ', 'CC'),\n",
       " ('PRON', 'DT'),\n",
       " ('PUNCT', ','),\n",
       " ('ADP', 'IN'),\n",
       " ('VERB', 'VBG'),\n",
       " ('ADJ', 'JJ'),\n",
       " ('CCONJ', 'CC'),\n",
       " ('ADJ', 'JJ'),\n",
       " ('NOUN', 'NNS'),\n",
       " ('ADP', 'IN'),\n",
       " ('ADJ', 'JJ'),\n",
       " ('CCONJ', 'CC'),\n",
       " ('NOUN', 'NN'),\n",
       " ('NOUN', 'NNS'),\n",
       " ('PUNCT', ','),\n",
       " ('SCONJ', 'IN'),\n",
       " ('ADP', 'IN'),\n",
       " ('DET', 'DT'),\n",
       " ('NOUN', 'NN'),\n",
       " ('ADP', 'IN'),\n",
       " ('NOUN', 'NN'),\n",
       " ('CCONJ', 'CC'),\n",
       " ('NOUN', 'NN'),\n",
       " ('CCONJ', 'CC'),\n",
       " ('ADP', 'IN'),\n",
       " ('DET', 'DT'),\n",
       " ('NOUN', 'NNS'),\n",
       " ('ADP', 'IN'),\n",
       " ('DET', 'DT'),\n",
       " ('NOUN', 'NN'),\n",
       " ('PART', 'POS'),\n",
       " ('NOUN', 'NNS'),\n",
       " ('CCONJ', 'CC'),\n",
       " ('NOUN', 'NNS'),\n",
       " ('PUNCT', '.'),\n",
       " ('PRON', 'PRP$'),\n",
       " ('NOUN', 'NN'),\n",
       " ('AUX', 'VBZ'),\n",
       " ('ADV', 'RB'),\n",
       " ('ADJ', 'JJ'),\n",
       " ('PUNCT', ','),\n",
       " ('ADV', 'RB'),\n",
       " ('ADJ', 'JJ'),\n",
       " ('PUNCT', '.'),\n",
       " ('PRON', 'PRP'),\n",
       " ('VERB', 'VBZ'),\n",
       " ('ADP', 'IN'),\n",
       " ('DET', 'DT'),\n",
       " ('NOUN', 'NNS'),\n",
       " ('ADP', 'IN'),\n",
       " ('DET', 'DT'),\n",
       " ('ADJ', 'JJ'),\n",
       " ('NOUN', 'NN'),\n",
       " ('NOUN', 'NNS'),\n",
       " ('ADP', 'IN'),\n",
       " ('NOUN', 'NN'),\n",
       " ('PUNCT', 'HYPH'),\n",
       " ('NOUN', 'NN'),\n",
       " ('ADP', 'IN'),\n",
       " ('NUM', 'CD'),\n",
       " ('ADJ', 'JJ'),\n",
       " ('NOUN', 'NNS'),\n",
       " ('ADP', 'IN'),\n",
       " ('ADJ', 'JJ'),\n",
       " ('NOUN', 'NN'),\n",
       " ('PUNCT', ','),\n",
       " ('ADP', 'IN'),\n",
       " ('NOUN', 'NN'),\n",
       " ('NOUN', 'NNS'),\n",
       " ('CCONJ', 'CC'),\n",
       " ('NOUN', 'NN'),\n",
       " ('NOUN', 'NNS'),\n",
       " ('ADP', 'IN'),\n",
       " ('NOUN', 'NNS'),\n",
       " ('ADP', 'IN'),\n",
       " ('DET', 'DT'),\n",
       " ('NOUN', 'NN'),\n",
       " ('ADP', 'IN'),\n",
       " ('NOUN', 'NNS'),\n",
       " ('CCONJ', 'CC'),\n",
       " ('DET', 'DT'),\n",
       " ('ADJ', 'JJ'),\n",
       " ('VERB', 'VBG'),\n",
       " ('ADV', 'RB'),\n",
       " ('ADP', 'IN'),\n",
       " ('DET', 'DT'),\n",
       " ('NOUN', 'NN'),\n",
       " ('ADP', 'IN'),\n",
       " ('DET', 'DT'),\n",
       " ('ADJ', 'JJ'),\n",
       " ('PUNCT', 'HYPH'),\n",
       " ('ADJ', 'JJ'),\n",
       " ('NOUN', 'NN'),\n",
       " ('PUNCT', '.'),\n",
       " ('PRON', 'PRP'),\n",
       " ('VERB', 'VBZ'),\n",
       " ('DET', 'DT'),\n",
       " ('NUM', 'CD'),\n",
       " ('NOUN', 'NN'),\n",
       " ('VERB', 'VBG'),\n",
       " ('DET', 'DT'),\n",
       " ('NOUN', 'NN'),\n",
       " ('ADP', 'IN'),\n",
       " ('DET', 'DT'),\n",
       " ('PUNCT', '``'),\n",
       " ('ADJ', 'JJ'),\n",
       " ('PUNCT', \"''\"),\n",
       " ('CCONJ', 'CC'),\n",
       " ('DET', 'DT'),\n",
       " ('PUNCT', '``'),\n",
       " ('ADJ', 'JJ'),\n",
       " ('PUNCT', \"''\"),\n",
       " ('NOUN', 'NNS'),\n",
       " ('PUNCT', ','),\n",
       " ('VERB', 'VBG'),\n",
       " ('DET', 'DT'),\n",
       " ('NUM', 'CD'),\n",
       " ('PROPN', 'NNPS'),\n",
       " ('ADP', 'IN'),\n",
       " ('PROPN', 'NNP'),\n",
       " ('PROPN', 'NNP'),\n",
       " ('PROPN', 'NNP'),\n",
       " ('PUNCT', '.'),\n",
       " ('CCONJ', 'CC'),\n",
       " ('DET', 'DT'),\n",
       " ('NOUN', 'NN'),\n",
       " ('ADP', 'IN'),\n",
       " ('NOUN', 'NN'),\n",
       " ('VERB', 'VBZ'),\n",
       " ('DET', 'DT'),\n",
       " ('NOUN', 'NN'),\n",
       " ('CCONJ', 'CC'),\n",
       " ('NOUN', 'NN'),\n",
       " ('PRON', 'WDT'),\n",
       " ('VERB', 'VBZ'),\n",
       " ('PRON', 'PRP$'),\n",
       " ('NOUN', 'NN'),\n",
       " ('PUNCT', '.'),\n",
       " ('PRON', 'EX'),\n",
       " ('VERB', 'VBP'),\n",
       " ('PUNCT', ','),\n",
       " ('ADP', 'IN'),\n",
       " ('NOUN', 'NN'),\n",
       " ('PUNCT', ','),\n",
       " ('NOUN', 'NN'),\n",
       " ('NOUN', 'NNS'),\n",
       " ('PRON', 'WDT'),\n",
       " ('VERB', 'VBP'),\n",
       " ('DET', 'DT'),\n",
       " ('NOUN', 'NN'),\n",
       " ('PUNCT', '.'),\n",
       " ('CCONJ', 'CC'),\n",
       " ('ADV', 'RB'),\n",
       " ('PRON', 'DT'),\n",
       " ('AUX', 'VBP'),\n",
       " ('ADV', 'RB'),\n",
       " ('VERB', 'VBN'),\n",
       " ('ADP', 'IN'),\n",
       " ('ADV', 'RB'),\n",
       " ('PUNCT', ','),\n",
       " ('ADP', 'IN'),\n",
       " ('NOUN', 'NN'),\n",
       " ('CCONJ', 'CC'),\n",
       " ('NOUN', 'NN'),\n",
       " ('PUNCT', '.'),\n",
       " ('DET', 'DT'),\n",
       " ('NOUN', 'NNS'),\n",
       " ('PUNCT', ','),\n",
       " ('NOUN', 'NNS'),\n",
       " ('ADV', 'RB'),\n",
       " ('PUNCT', ','),\n",
       " ('VERB', 'VBP'),\n",
       " ('NOUN', 'NN'),\n",
       " ('ADP', 'IN'),\n",
       " ('NOUN', 'NN'),\n",
       " ('CCONJ', 'CC'),\n",
       " ('NOUN', 'NN'),\n",
       " ('ADP', 'IN'),\n",
       " ('VERB', 'VBG'),\n",
       " ('ADJ', 'JJ'),\n",
       " ('NOUN', 'NNS'),\n",
       " ('PUNCT', '.'),\n",
       " ('PRON', 'EX'),\n",
       " ('VERB', 'VBP'),\n",
       " ('VERB', 'VBN'),\n",
       " ('ADJ', 'JJ'),\n",
       " ('NOUN', 'NNS'),\n",
       " ('ADP', 'IN'),\n",
       " ('NOUN', 'NNS'),\n",
       " ('ADV', 'RB'),\n",
       " ('ADJ', 'JJ'),\n",
       " ('PUNCT', '.'),\n",
       " ('ADJ', 'JJ'),\n",
       " ('NOUN', 'NNS'),\n",
       " ('CCONJ', 'CC'),\n",
       " ('NOUN', 'NN'),\n",
       " ('NOUN', 'NNS'),\n",
       " ('AUX', 'MD'),\n",
       " ('AUX', 'VB'),\n",
       " ('VERB', 'VBN'),\n",
       " ('PUNCT', '.'),\n",
       " ('ADP', 'IN'),\n",
       " ('ADJ', 'JJ'),\n",
       " ('NOUN', 'NNS'),\n",
       " ('PUNCT', ','),\n",
       " ('ADV', 'RB'),\n",
       " ('ADP', 'IN'),\n",
       " ('ADJ', 'JJ'),\n",
       " ('CCONJ', 'CC'),\n",
       " ('ADJ', 'JJ'),\n",
       " ('NOUN', 'NN'),\n",
       " ('PUNCT', ','),\n",
       " ('NOUN', 'NN'),\n",
       " ('VERB', 'VBZ'),\n",
       " ('ADV', 'RB'),\n",
       " ('ADJ', 'JJR'),\n",
       " ('PUNCT', '.'),\n",
       " ('DET', 'DT'),\n",
       " ('NOUN', 'NN'),\n",
       " ('CCONJ', 'CC'),\n",
       " ('DET', 'DT'),\n",
       " ('NOUN', 'NN'),\n",
       " ('SCONJ', 'IN'),\n",
       " ('ADP', 'IN'),\n",
       " ('NOUN', 'NN'),\n",
       " ('VERB', 'VBZ'),\n",
       " ('SCONJ', 'IN'),\n",
       " ('VERB', 'VBN'),\n",
       " ('NOUN', 'NNS'),\n",
       " ('CCONJ', 'CC'),\n",
       " ('VERB', 'VBN'),\n",
       " ('NOUN', 'NNS'),\n",
       " ('ADP', 'IN'),\n",
       " ('NOUN', 'NN'),\n",
       " ('CCONJ', 'CC'),\n",
       " ('ADJ', 'JJ'),\n",
       " ('NOUN', 'NN'),\n",
       " ('AUX', 'VBZ'),\n",
       " ('ADV', 'RB'),\n",
       " ('ADJ', 'JJ'),\n",
       " ('PUNCT', '.'),\n",
       " ('PRON', 'PRP'),\n",
       " ('ADV', 'RB'),\n",
       " ('ADJ', 'JJR'),\n",
       " ('ADP', 'IN'),\n",
       " ('NOUN', 'NN'),\n",
       " ('PUNCT', ','),\n",
       " ('DET', 'DT'),\n",
       " ('NOUN', 'NN'),\n",
       " ('ADV', 'RB'),\n",
       " ('ADP', 'IN'),\n",
       " ('DET', 'DT'),\n",
       " ('NOUN', 'NNS'),\n",
       " ('ADP', 'IN'),\n",
       " ('DET', 'DT'),\n",
       " ('ADJ', 'JJ'),\n",
       " ('NOUN', 'NN'),\n",
       " ('NOUN', 'NNS'),\n",
       " ('PUNCT', ','),\n",
       " ('ADP', 'IN'),\n",
       " ('ADP', 'IN'),\n",
       " ('NOUN', 'NNS'),\n",
       " ('PUNCT', '.'),\n",
       " ('ADV', 'RB'),\n",
       " ('PRON', 'PRP'),\n",
       " ('AUX', 'VBZ'),\n",
       " ('NOUN', 'NN'),\n",
       " ('PRON', 'WDT'),\n",
       " ('VERB', 'VBZ'),\n",
       " ('DET', 'DT'),\n",
       " ('NOUN', 'NN'),\n",
       " ('PRON', 'WDT'),\n",
       " ('VERB', 'VBZ'),\n",
       " ('PUNCT', ','),\n",
       " ('SCONJ', 'IN'),\n",
       " ('ADV', 'RB'),\n",
       " ('PUNCT', ','),\n",
       " ('DET', 'DT'),\n",
       " ('ADJ', 'JJ'),\n",
       " ('NOUN', 'NN'),\n",
       " ('ADP', 'IN'),\n",
       " ('DET', 'DT'),\n",
       " ('NOUN', 'NN'),\n",
       " ('PUNCT', '.'),\n",
       " ('NOUN', 'NN'),\n",
       " ('PUNCT', ','),\n",
       " ('ADP', 'IN'),\n",
       " ('NOUN', 'NN'),\n",
       " ('PART', 'POS'),\n",
       " ('ADJ', 'JJ'),\n",
       " ('NOUN', 'NN'),\n",
       " ('PUNCT', ','),\n",
       " ('VERB', 'VBZ'),\n",
       " ('DET', 'DT'),\n",
       " ('NOUN', 'NN'),\n",
       " ('ADV', 'RB'),\n",
       " ('VERB', 'VBP'),\n",
       " ('ADP', 'IN'),\n",
       " ('DET', 'DT'),\n",
       " ('NOUN', 'NN'),\n",
       " ('ADP', 'IN'),\n",
       " ('DET', 'PDT'),\n",
       " ('DET', 'DT'),\n",
       " ('NOUN', 'NNS'),\n",
       " ('PUNCT', '.'),\n",
       " ('ADV', 'RB'),\n",
       " ('PRON', 'PRP'),\n",
       " ('AUX', 'MD'),\n",
       " ('AUX', 'VB'),\n",
       " ('ADV', 'RBS'),\n",
       " ('ADJ', 'JJ'),\n",
       " ('PART', 'TO'),\n",
       " ('VERB', 'VB'),\n",
       " ('DET', 'DT'),\n",
       " ('NOUN', 'NN'),\n",
       " ('PUNCT', ','),\n",
       " ('NOUN', 'NN'),\n",
       " ('PUNCT', ','),\n",
       " ('NOUN', 'NN'),\n",
       " ('PUNCT', ','),\n",
       " ('CCONJ', 'CC'),\n",
       " ('NOUN', 'NNS'),\n",
       " ('ADP', 'IN'),\n",
       " ('PROPN', 'NNP'),\n",
       " ('PROPN', 'NNP'),\n",
       " ('DET', 'DT'),\n",
       " ('ADJ', 'JJ'),\n",
       " ('NOUN', 'NN'),\n",
       " ('ADP', 'IN'),\n",
       " ('DET', 'DT'),\n",
       " ('NOUN', 'NN'),\n",
       " ('ADV', 'RB'),\n",
       " ('VERB', 'VBN'),\n",
       " ('PUNCT', ','),\n",
       " ('ADV', 'RB'),\n",
       " ('PUNCT', ','),\n",
       " ('AUX', 'MD'),\n",
       " ('VERB', 'VB'),\n",
       " ('PUNCT', '-RRB-')]"
      ]
     },
     "execution_count": 87,
     "metadata": {},
     "output_type": "execute_result"
    }
   ],
   "source": [
    "pos_list[0]"
   ]
  },
  {
   "cell_type": "code",
   "execution_count": 88,
   "id": "0fad0dc9",
   "metadata": {},
   "outputs": [],
   "source": [
    "# Define function to extract proper nouns from Doc object\n",
    "def extract_proper_nouns(doc):\n",
    "    return [token.text for token in doc if token.pos_ == 'PROPN']\n",
    "\n",
    "# Apply function to Doc column and store resulting proper nouns in new column\n",
    "merge_df['Proper_Nouns'] = merge_df['Doc'].apply(extract_proper_nouns)"
   ]
  },
  {
   "cell_type": "code",
   "execution_count": 89,
   "id": "7b6e90cd",
   "metadata": {},
   "outputs": [
    {
     "data": {
      "text/plain": [
       "[['Progress',\n",
       "  'Physical',\n",
       "  'Anthropology',\n",
       "  'Fossil',\n",
       "  'Alfred',\n",
       "  'North',\n",
       "  'Whitehead',\n",
       "  'William',\n",
       "  'Ockham',\n",
       "  'essentia',\n",
       "  'non',\n",
       "  'sunt',\n",
       "  'multiplicanda',\n",
       "  'prater',\n",
       "  'necessitatem',\n",
       "  'Whitehead'],\n",
       " ['Paradigm',\n",
       "  'Shift\\\\',\n",
       "  'Gupta',\n",
       "  'Stoolman',\n",
       "  'American',\n",
       "  'Anthropological',\n",
       "  'Association',\n",
       "  'Gupta',\n",
       "  'Herb',\n",
       "  'Lewis',\n",
       "  'Gupta',\n",
       "  'American',\n",
       "  'Anthropological',\n",
       "  'Association',\n",
       "  'Communities',\n",
       "  'Lewis',\n",
       "  'Native',\n",
       "  'North',\n",
       "  'Native',\n",
       "  'North',\n",
       "  'Americans',\n",
       "  'Native',\n",
       "  'American',\n",
       "  'Nations',\n",
       "  'United',\n",
       "  'States',\n",
       "  'Native',\n",
       "  'North',\n",
       "  'Americans',\n",
       "  '\\\\',\n",
       "  'Native',\n",
       "  'American',\n",
       "  'Graves',\n",
       "  'Protection',\n",
       "  'Repatriation',\n",
       "  'Act',\n",
       "  'NAGPRA',\n",
       "  'Krmpotich',\n",
       "  'Phillips']]"
      ]
     },
     "execution_count": 89,
     "metadata": {},
     "output_type": "execute_result"
    }
   ],
   "source": [
    "#choosing to look at the proper nouns from one text from 1973 (1) and one from 2023 (40)\n",
    "\n",
    "list(merge_df.loc[[1, 40], 'Proper_Nouns'])"
   ]
  },
  {
   "cell_type": "code",
   "execution_count": 49,
   "id": "78de5d06",
   "metadata": {},
   "outputs": [
    {
     "data": {
      "text/plain": [
       "0                [CARDINAL, CARDINAL, CARDINAL, PERSON]\n",
       "1     [PERSON, PERSON, PERSON, CARDINAL, CARDINAL, D...\n",
       "2                                    [DATE, DATE, DATE]\n",
       "3     [ORG, CARDINAL, CARDINAL, ORG, CARDINAL, ORG, ...\n",
       "4     [LANGUAGE, CARDINAL, CARDINAL, GPE, GPE, NORP,...\n",
       "5     [GPE, NORP, NORP, CARDINAL, DATE, ORDINAL, ORD...\n",
       "6     [ORG, CARDINAL, CARDINAL, PERSON, DATE, ORDINA...\n",
       "7     [ORG, DATE, DATE, ORDINAL, DATE, DATE, PERSON,...\n",
       "8     [ORG, PERSON, LAW, FAC, PERSON, CARDINAL, PERS...\n",
       "9     [ORG, DATE, ORG, CARDINAL, CARDINAL, ORG, CARD...\n",
       "10    [ORDINAL, ORG, CARDINAL, PERSON, CARDINAL, CAR...\n",
       "11    [ORG, DATE, CARDINAL, ORG, PERSON, CARDINAL, C...\n",
       "12    [CARDINAL, ORDINAL, ORDINAL, NORP, PERSON, CAR...\n",
       "13    [ORG, CARDINAL, DATE, DATE, DATE, PERSON, ORG,...\n",
       "14         [ORG, CARDINAL, CARDINAL, CARDINAL, ORDINAL]\n",
       "15    [NORP, NORP, NORP, NORP, NORP, NORP, ORG, CARD...\n",
       "16    [PERSON, PERSON, PRODUCT, DATE, DATE, LOC, PER...\n",
       "17                                [NORP, DATE, ORDINAL]\n",
       "18    [LOC, LOC, DATE, PERSON, ORDINAL, LOC, CARDINA...\n",
       "19    [ORG, PERSON, DATE, ORG, PERSON, DATE, PERSON,...\n",
       "20    [PERSON, DATE, CARDINAL, DATE, DATE, DATE, DAT...\n",
       "21    [ORG, ORG, ORG, NORP, ORG, DATE, DATE, DATE, G...\n",
       "22    [ORG, LOC, CARDINAL, NORP, LOC, LOC, DATE, LOC...\n",
       "23    [PERSON, PERSON, ORG, CARDINAL, DATE, ORG, DAT...\n",
       "24    [CARDINAL, PERSON, CARDINAL, CARDINAL, ORDINAL...\n",
       "25    [DATE, PERSON, ORG, ORDINAL, DATE, GPE, DATE, ...\n",
       "26    [WORK_OF_ART, DATE, DATE, CARDINAL, DATE, CARD...\n",
       "27    [ORG, DATE, ORG, ORG, NORP, DATE, ORG, PERSON,...\n",
       "28    [ORG, PRODUCT, DATE, ORG, PERSON, DATE, ORG, D...\n",
       "29    [CARDINAL, ORDINAL, ORDINAL, NORP, ORDINAL, OR...\n",
       "30    [DATE, PERSON, WORK_OF_ART, PERSON, GPE, CARDI...\n",
       "31    [ORG, DATE, ORG, ORG, ORG, CARDINAL, CARDINAL,...\n",
       "32      [ORG, ORG, DATE, DATE, PERSON, GPE, DATE, DATE]\n",
       "33    [NORP, PERSON, DATE, ORG, PERSON, GPE, PERSON,...\n",
       "34    [ORG, DATE, DATE, ORG, ORG, GPE, DATE, DATE, P...\n",
       "35    [ORG, ORG, LOC, PERSON, GPE, FAC, LOC, GPE, GP...\n",
       "36    [DATE, ORDINAL, ORG, DATE, DATE, CARDINAL, ORG...\n",
       "37    [NORP, CARDINAL, PERSON, DATE, DATE, DATE, DAT...\n",
       "38    [ORG, ORG, CARDINAL, DATE, PRODUCT, DATE, DATE...\n",
       "39    [ORG, DATE, ORG, PERSON, DATE, PERSON, DATE, O...\n",
       "40    [PERSON, DATE, ORG, ORG, DATE, DATE, PERSON, P...\n",
       "41    [NORP, PERSON, DATE, DATE, NORP, ORG, NORP, LO...\n",
       "42    [CARDINAL, GPE, GPE, GPE, DATE, PERSON, DATE, ...\n",
       "43    [PERSON, GPE, GPE, NORP, PERSON, NORP, NORP, P...\n",
       "44    [DATE, CARDINAL, PERSON, DATE, CARDINAL, EVENT...\n",
       "Name: Named_Entities, dtype: object"
      ]
     },
     "execution_count": 49,
     "metadata": {},
     "output_type": "execute_result"
    }
   ],
   "source": [
    "# Define function to extract named entities from doc objects\n",
    "def extract_named_entities(doc):\n",
    "    return [ent.label_ for ent in doc.ents]\n",
    "\n",
    "# Apply function to Doc column and store resulting named entities in new column\n",
    "merge_df['Named_Entities'] = merge_df['Doc'].apply(extract_named_entities)\n",
    "merge_df['Named_Entities']"
   ]
  },
  {
   "cell_type": "code",
   "execution_count": 50,
   "id": "4f3184bb",
   "metadata": {},
   "outputs": [
    {
     "data": {
      "text/plain": [
       "0                [(one), (one), (Two), (Charles, Snow)]\n",
       "1     [(Conceptual, Progress), (Fossil, Man\\), (Alfr...\n",
       "2                     [(mid-1969), (mid-1971), (today)]\n",
       "3     [(Methods\\, Archaeological), (3), (One), (Mich...\n",
       "4     [(English), (two), (one), (America), (England)...\n",
       "5     [(USSR), (South, American), (Andean), (three),...\n",
       "6     [(Subsistence), (at, least, one), (three), (Jo...\n",
       "7     [(Subsistence), (annual), (the, previous, year...\n",
       "8     [(Boas, 13), (Harris, 40), (Kroeber, 46), (Whi...\n",
       "9     [(Social, Strategies, and, Social, Relationshi...\n",
       "10    [(first), (Casagrande, &, Hale), (6), (Werner)...\n",
       "11    [(Morgan, 's, Systems, of, Consanguinity, and,...\n",
       "12    [(five), (first), (first), (Aristotelian), (Ar...\n",
       "13    [(Semantics), (one), (the, late, 1940s), (the,...\n",
       "14    [(Linguistic, Models), (two), (two), (two), (f...\n",
       "15    [(American), (Indian), (American), (Indian), (...\n",
       "16    [(Ruth, Tringham), (Tringham), (the, Neolithic...\n",
       "17    [(European), (between, 1988, and, 1993), (first)]\n",
       "18    [(Indian, Ocean), (Indian, Ocean), (the, last,...\n",
       "19    [(Neandertals), (Harold, Dibble), (1986), (Cla...\n",
       "20    [(Mike, Savage), (2021), (7), (The, decades), ...\n",
       "21    [(Depositional, Processes), (the, Sociopolitic...\n",
       "22    [(Africa\\, Slavery), (Africa), (\\'93slavery\\'9...\n",
       "23    [(Biology\\, Water), (Rosinger), (United, Natio...\n",
       "24    [(two), (biology.\\, \\), (three), (One), (secon...\n",
       "25    [(more, than, a, century), (\\, Unfortunately),...\n",
       "26    [(the, Pace, of, Human, Aging\\), (the, next, 3...\n",
       "27    [(Gut, Microbial, Intersections, with, Human, ...\n",
       "28    [(Biocultural, Lactation), (Tomori, et, al), (...\n",
       "29    [(at, least, three), (First), (Second), (image...\n",
       "30    [(2005), (Daniel, Everett), (Current, Anthropo...\n",
       "31    [(Invisible, Labor), (2021), (American, Anthro...\n",
       "32    [(Social, Movements), (Mediated, Visibility\\, ...\n",
       "33    [(Linguistic), (Franz, Boas), (1911), (Boas), ...\n",
       "34    [(Meyer), (1998), (2015), (\\'93reorganization\\...\n",
       "35    [(Critical, University), (COVID-19), (Black, L...\n",
       "36    [(1997), (first), (the, Annual, Review, of, An...\n",
       "37    [(Boolean), (one), (\\, Algorithms), (2013), (2...\n",
       "38    [(Global, Health, Interventions, :, The, Milit...\n",
       "39    [(Imperial), (Chalfin, 2010), (Rana, 2011), (A...\n",
       "40    [(Toward, a, Paradigm), (2021), (Gupta, &, Sto...\n",
       "41    [(nonhumans), (Kafer), (1996), (2003), (nonhum...\n",
       "42    [(two), (South, Africa), (the, United, Kingdom...\n",
       "43    [(Jim, Crow), (the, United, States), (South, A...\n",
       "44    [(the, last, decade), (more, than, one), (\\), ...\n",
       "Name: NE_Words, dtype: object"
      ]
     },
     "execution_count": 50,
     "metadata": {},
     "output_type": "execute_result"
    }
   ],
   "source": [
    "# Define function to extract text tagged with named entities from doc objects\n",
    "def extract_named_entities(doc):\n",
    "    return [ent for ent in doc.ents]\n",
    "\n",
    "# Apply function to Doc column and store resulting text in new column\n",
    "merge_df['NE_Words'] = merge_df['Doc'].apply(extract_named_entities)\n",
    "merge_df['NE_Words']"
   ]
  },
  {
   "cell_type": "code",
   "execution_count": 83,
   "id": "9507b2ba",
   "metadata": {},
   "outputs": [],
   "source": [
    "#saving new CSV file with tokens, lemmas, and parts-of-speech, without the Doc column.\n",
    "merge_df.drop(columns=['Doc'])\n",
    "merge_df.to_csv('anthroreviews_with_spaCy.csv')"
   ]
  },
  {
   "cell_type": "markdown",
   "id": "835394d5",
   "metadata": {},
   "source": [
    "#### Now that we have saved our spaCy analysis, let's visualize with the new information collected"
   ]
  },
  {
   "cell_type": "code",
   "execution_count": 53,
   "id": "2aca9145",
   "metadata": {},
   "outputs": [],
   "source": [
    "# Create new DataFrame for analysis purposes\n",
    "ner_analysis_df = merge_df[['year', 'Named_Entities']]"
   ]
  },
  {
   "cell_type": "code",
   "execution_count": 54,
   "id": "b0263d13",
   "metadata": {},
   "outputs": [],
   "source": [
    "# Convert named entity lists to strings so we can count specific entities\n",
    "ner_analysis_df['Named_Entities'] = ner_analysis_df['Named_Entities'].apply(lambda x: ' '.join(x))\n",
    "\n",
    "# Get the number of each type of entity in each paper, including people, locations, and dates\n",
    "person_counts = ner_analysis_df['Named_Entities'].str.count('PERSON')\n",
    "loc_counts = ner_analysis_df['Named_Entities'].str.count('LOC')\n",
    "date_counts = ner_analysis_df['Named_Entities'].str.count('DATE')"
   ]
  },
  {
   "cell_type": "code",
   "execution_count": 55,
   "id": "6b9695dc",
   "metadata": {},
   "outputs": [
    {
     "data": {
      "text/html": [
       "<div>\n",
       "<style scoped>\n",
       "    .dataframe tbody tr th:only-of-type {\n",
       "        vertical-align: middle;\n",
       "    }\n",
       "\n",
       "    .dataframe tbody tr th {\n",
       "        vertical-align: top;\n",
       "    }\n",
       "\n",
       "    .dataframe thead th {\n",
       "        text-align: right;\n",
       "    }\n",
       "</style>\n",
       "<table border=\"1\" class=\"dataframe\">\n",
       "  <thead>\n",
       "    <tr style=\"text-align: right;\">\n",
       "      <th></th>\n",
       "      <th>Volume</th>\n",
       "      <th>PERSON_Counts</th>\n",
       "      <th>LOC_Counts</th>\n",
       "      <th>DATE_Counts</th>\n",
       "    </tr>\n",
       "  </thead>\n",
       "  <tbody>\n",
       "    <tr>\n",
       "      <th>0</th>\n",
       "      <td>1972</td>\n",
       "      <td>1</td>\n",
       "      <td>0</td>\n",
       "      <td>0</td>\n",
       "    </tr>\n",
       "    <tr>\n",
       "      <th>1</th>\n",
       "      <td>1972</td>\n",
       "      <td>4</td>\n",
       "      <td>0</td>\n",
       "      <td>3</td>\n",
       "    </tr>\n",
       "    <tr>\n",
       "      <th>2</th>\n",
       "      <td>1972</td>\n",
       "      <td>0</td>\n",
       "      <td>0</td>\n",
       "      <td>3</td>\n",
       "    </tr>\n",
       "    <tr>\n",
       "      <th>3</th>\n",
       "      <td>1972</td>\n",
       "      <td>0</td>\n",
       "      <td>0</td>\n",
       "      <td>0</td>\n",
       "    </tr>\n",
       "    <tr>\n",
       "      <th>4</th>\n",
       "      <td>1972</td>\n",
       "      <td>1</td>\n",
       "      <td>1</td>\n",
       "      <td>1</td>\n",
       "    </tr>\n",
       "  </tbody>\n",
       "</table>\n",
       "</div>"
      ],
      "text/plain": [
       "   Volume  PERSON_Counts  LOC_Counts  DATE_Counts\n",
       "0    1972              1           0            0\n",
       "1    1972              4           0            3\n",
       "2    1972              0           0            3\n",
       "3    1972              0           0            0\n",
       "4    1972              1           1            1"
      ]
     },
     "execution_count": 55,
     "metadata": {},
     "output_type": "execute_result"
    }
   ],
   "source": [
    "# Append named entity counts to new DataFrame\n",
    "ner_counts_df = pd.DataFrame()\n",
    "ner_counts_df['Volume'] = ner_analysis_df['year']\n",
    "ner_counts_df['PERSON_Counts'] = person_counts\n",
    "ner_counts_df['LOC_Counts'] = loc_counts\n",
    "ner_counts_df['DATE_Counts'] = date_counts\n",
    "\n",
    "ner_counts_df.head()"
   ]
  },
  {
   "cell_type": "code",
   "execution_count": 90,
   "id": "98b020bd",
   "metadata": {},
   "outputs": [
    {
     "data": {
      "application/vnd.plotly.v1+json": {
       "config": {
        "plotlyServerURL": "https://plot.ly"
       },
       "data": [
        {
         "alignmentgroup": "True",
         "hovertemplate": "variable=PERSON_Counts<br>Volume=%{x}<br>value=%{y}<extra></extra>",
         "legendgroup": "PERSON_Counts",
         "marker": {
          "color": "#636efa",
          "pattern": {
           "shape": ""
          }
         },
         "name": "PERSON_Counts",
         "offsetgroup": "PERSON_Counts",
         "orientation": "v",
         "showlegend": true,
         "textposition": "auto",
         "type": "bar",
         "x": [
          1972,
          2023
         ],
         "xaxis": "x",
         "y": [
          2,
          3
         ],
         "yaxis": "y"
        },
        {
         "alignmentgroup": "True",
         "hovertemplate": "variable=LOC_Counts<br>Volume=%{x}<br>value=%{y}<extra></extra>",
         "legendgroup": "LOC_Counts",
         "marker": {
          "color": "#EF553B",
          "pattern": {
           "shape": ""
          }
         },
         "name": "LOC_Counts",
         "offsetgroup": "LOC_Counts",
         "orientation": "v",
         "showlegend": true,
         "textposition": "auto",
         "type": "bar",
         "x": [
          1972,
          2023
         ],
         "xaxis": "x",
         "y": [
          0,
          1
         ],
         "yaxis": "y"
        },
        {
         "alignmentgroup": "True",
         "hovertemplate": "variable=DATE_Counts<br>Volume=%{x}<br>value=%{y}<extra></extra>",
         "legendgroup": "DATE_Counts",
         "marker": {
          "color": "#00cc96",
          "pattern": {
           "shape": ""
          }
         },
         "name": "DATE_Counts",
         "offsetgroup": "DATE_Counts",
         "orientation": "v",
         "showlegend": true,
         "textposition": "auto",
         "type": "bar",
         "x": [
          1972,
          2023
         ],
         "xaxis": "x",
         "y": [
          1,
          7
         ],
         "yaxis": "y"
        }
       ],
       "layout": {
        "barmode": "group",
        "legend": {
         "title": {
          "text": "variable"
         },
         "tracegroupgap": 0
        },
        "template": {
         "data": {
          "bar": [
           {
            "error_x": {
             "color": "#2a3f5f"
            },
            "error_y": {
             "color": "#2a3f5f"
            },
            "marker": {
             "line": {
              "color": "#E5ECF6",
              "width": 0.5
             },
             "pattern": {
              "fillmode": "overlay",
              "size": 10,
              "solidity": 0.2
             }
            },
            "type": "bar"
           }
          ],
          "barpolar": [
           {
            "marker": {
             "line": {
              "color": "#E5ECF6",
              "width": 0.5
             },
             "pattern": {
              "fillmode": "overlay",
              "size": 10,
              "solidity": 0.2
             }
            },
            "type": "barpolar"
           }
          ],
          "carpet": [
           {
            "aaxis": {
             "endlinecolor": "#2a3f5f",
             "gridcolor": "white",
             "linecolor": "white",
             "minorgridcolor": "white",
             "startlinecolor": "#2a3f5f"
            },
            "baxis": {
             "endlinecolor": "#2a3f5f",
             "gridcolor": "white",
             "linecolor": "white",
             "minorgridcolor": "white",
             "startlinecolor": "#2a3f5f"
            },
            "type": "carpet"
           }
          ],
          "choropleth": [
           {
            "colorbar": {
             "outlinewidth": 0,
             "ticks": ""
            },
            "type": "choropleth"
           }
          ],
          "contour": [
           {
            "colorbar": {
             "outlinewidth": 0,
             "ticks": ""
            },
            "colorscale": [
             [
              0,
              "#0d0887"
             ],
             [
              0.1111111111111111,
              "#46039f"
             ],
             [
              0.2222222222222222,
              "#7201a8"
             ],
             [
              0.3333333333333333,
              "#9c179e"
             ],
             [
              0.4444444444444444,
              "#bd3786"
             ],
             [
              0.5555555555555556,
              "#d8576b"
             ],
             [
              0.6666666666666666,
              "#ed7953"
             ],
             [
              0.7777777777777778,
              "#fb9f3a"
             ],
             [
              0.8888888888888888,
              "#fdca26"
             ],
             [
              1,
              "#f0f921"
             ]
            ],
            "type": "contour"
           }
          ],
          "contourcarpet": [
           {
            "colorbar": {
             "outlinewidth": 0,
             "ticks": ""
            },
            "type": "contourcarpet"
           }
          ],
          "heatmap": [
           {
            "colorbar": {
             "outlinewidth": 0,
             "ticks": ""
            },
            "colorscale": [
             [
              0,
              "#0d0887"
             ],
             [
              0.1111111111111111,
              "#46039f"
             ],
             [
              0.2222222222222222,
              "#7201a8"
             ],
             [
              0.3333333333333333,
              "#9c179e"
             ],
             [
              0.4444444444444444,
              "#bd3786"
             ],
             [
              0.5555555555555556,
              "#d8576b"
             ],
             [
              0.6666666666666666,
              "#ed7953"
             ],
             [
              0.7777777777777778,
              "#fb9f3a"
             ],
             [
              0.8888888888888888,
              "#fdca26"
             ],
             [
              1,
              "#f0f921"
             ]
            ],
            "type": "heatmap"
           }
          ],
          "heatmapgl": [
           {
            "colorbar": {
             "outlinewidth": 0,
             "ticks": ""
            },
            "colorscale": [
             [
              0,
              "#0d0887"
             ],
             [
              0.1111111111111111,
              "#46039f"
             ],
             [
              0.2222222222222222,
              "#7201a8"
             ],
             [
              0.3333333333333333,
              "#9c179e"
             ],
             [
              0.4444444444444444,
              "#bd3786"
             ],
             [
              0.5555555555555556,
              "#d8576b"
             ],
             [
              0.6666666666666666,
              "#ed7953"
             ],
             [
              0.7777777777777778,
              "#fb9f3a"
             ],
             [
              0.8888888888888888,
              "#fdca26"
             ],
             [
              1,
              "#f0f921"
             ]
            ],
            "type": "heatmapgl"
           }
          ],
          "histogram": [
           {
            "marker": {
             "pattern": {
              "fillmode": "overlay",
              "size": 10,
              "solidity": 0.2
             }
            },
            "type": "histogram"
           }
          ],
          "histogram2d": [
           {
            "colorbar": {
             "outlinewidth": 0,
             "ticks": ""
            },
            "colorscale": [
             [
              0,
              "#0d0887"
             ],
             [
              0.1111111111111111,
              "#46039f"
             ],
             [
              0.2222222222222222,
              "#7201a8"
             ],
             [
              0.3333333333333333,
              "#9c179e"
             ],
             [
              0.4444444444444444,
              "#bd3786"
             ],
             [
              0.5555555555555556,
              "#d8576b"
             ],
             [
              0.6666666666666666,
              "#ed7953"
             ],
             [
              0.7777777777777778,
              "#fb9f3a"
             ],
             [
              0.8888888888888888,
              "#fdca26"
             ],
             [
              1,
              "#f0f921"
             ]
            ],
            "type": "histogram2d"
           }
          ],
          "histogram2dcontour": [
           {
            "colorbar": {
             "outlinewidth": 0,
             "ticks": ""
            },
            "colorscale": [
             [
              0,
              "#0d0887"
             ],
             [
              0.1111111111111111,
              "#46039f"
             ],
             [
              0.2222222222222222,
              "#7201a8"
             ],
             [
              0.3333333333333333,
              "#9c179e"
             ],
             [
              0.4444444444444444,
              "#bd3786"
             ],
             [
              0.5555555555555556,
              "#d8576b"
             ],
             [
              0.6666666666666666,
              "#ed7953"
             ],
             [
              0.7777777777777778,
              "#fb9f3a"
             ],
             [
              0.8888888888888888,
              "#fdca26"
             ],
             [
              1,
              "#f0f921"
             ]
            ],
            "type": "histogram2dcontour"
           }
          ],
          "mesh3d": [
           {
            "colorbar": {
             "outlinewidth": 0,
             "ticks": ""
            },
            "type": "mesh3d"
           }
          ],
          "parcoords": [
           {
            "line": {
             "colorbar": {
              "outlinewidth": 0,
              "ticks": ""
             }
            },
            "type": "parcoords"
           }
          ],
          "pie": [
           {
            "automargin": true,
            "type": "pie"
           }
          ],
          "scatter": [
           {
            "fillpattern": {
             "fillmode": "overlay",
             "size": 10,
             "solidity": 0.2
            },
            "type": "scatter"
           }
          ],
          "scatter3d": [
           {
            "line": {
             "colorbar": {
              "outlinewidth": 0,
              "ticks": ""
             }
            },
            "marker": {
             "colorbar": {
              "outlinewidth": 0,
              "ticks": ""
             }
            },
            "type": "scatter3d"
           }
          ],
          "scattercarpet": [
           {
            "marker": {
             "colorbar": {
              "outlinewidth": 0,
              "ticks": ""
             }
            },
            "type": "scattercarpet"
           }
          ],
          "scattergeo": [
           {
            "marker": {
             "colorbar": {
              "outlinewidth": 0,
              "ticks": ""
             }
            },
            "type": "scattergeo"
           }
          ],
          "scattergl": [
           {
            "marker": {
             "colorbar": {
              "outlinewidth": 0,
              "ticks": ""
             }
            },
            "type": "scattergl"
           }
          ],
          "scattermapbox": [
           {
            "marker": {
             "colorbar": {
              "outlinewidth": 0,
              "ticks": ""
             }
            },
            "type": "scattermapbox"
           }
          ],
          "scatterpolar": [
           {
            "marker": {
             "colorbar": {
              "outlinewidth": 0,
              "ticks": ""
             }
            },
            "type": "scatterpolar"
           }
          ],
          "scatterpolargl": [
           {
            "marker": {
             "colorbar": {
              "outlinewidth": 0,
              "ticks": ""
             }
            },
            "type": "scatterpolargl"
           }
          ],
          "scatterternary": [
           {
            "marker": {
             "colorbar": {
              "outlinewidth": 0,
              "ticks": ""
             }
            },
            "type": "scatterternary"
           }
          ],
          "surface": [
           {
            "colorbar": {
             "outlinewidth": 0,
             "ticks": ""
            },
            "colorscale": [
             [
              0,
              "#0d0887"
             ],
             [
              0.1111111111111111,
              "#46039f"
             ],
             [
              0.2222222222222222,
              "#7201a8"
             ],
             [
              0.3333333333333333,
              "#9c179e"
             ],
             [
              0.4444444444444444,
              "#bd3786"
             ],
             [
              0.5555555555555556,
              "#d8576b"
             ],
             [
              0.6666666666666666,
              "#ed7953"
             ],
             [
              0.7777777777777778,
              "#fb9f3a"
             ],
             [
              0.8888888888888888,
              "#fdca26"
             ],
             [
              1,
              "#f0f921"
             ]
            ],
            "type": "surface"
           }
          ],
          "table": [
           {
            "cells": {
             "fill": {
              "color": "#EBF0F8"
             },
             "line": {
              "color": "white"
             }
            },
            "header": {
             "fill": {
              "color": "#C8D4E3"
             },
             "line": {
              "color": "white"
             }
            },
            "type": "table"
           }
          ]
         },
         "layout": {
          "annotationdefaults": {
           "arrowcolor": "#2a3f5f",
           "arrowhead": 0,
           "arrowwidth": 1
          },
          "autotypenumbers": "strict",
          "coloraxis": {
           "colorbar": {
            "outlinewidth": 0,
            "ticks": ""
           }
          },
          "colorscale": {
           "diverging": [
            [
             0,
             "#8e0152"
            ],
            [
             0.1,
             "#c51b7d"
            ],
            [
             0.2,
             "#de77ae"
            ],
            [
             0.3,
             "#f1b6da"
            ],
            [
             0.4,
             "#fde0ef"
            ],
            [
             0.5,
             "#f7f7f7"
            ],
            [
             0.6,
             "#e6f5d0"
            ],
            [
             0.7,
             "#b8e186"
            ],
            [
             0.8,
             "#7fbc41"
            ],
            [
             0.9,
             "#4d9221"
            ],
            [
             1,
             "#276419"
            ]
           ],
           "sequential": [
            [
             0,
             "#0d0887"
            ],
            [
             0.1111111111111111,
             "#46039f"
            ],
            [
             0.2222222222222222,
             "#7201a8"
            ],
            [
             0.3333333333333333,
             "#9c179e"
            ],
            [
             0.4444444444444444,
             "#bd3786"
            ],
            [
             0.5555555555555556,
             "#d8576b"
            ],
            [
             0.6666666666666666,
             "#ed7953"
            ],
            [
             0.7777777777777778,
             "#fb9f3a"
            ],
            [
             0.8888888888888888,
             "#fdca26"
            ],
            [
             1,
             "#f0f921"
            ]
           ],
           "sequentialminus": [
            [
             0,
             "#0d0887"
            ],
            [
             0.1111111111111111,
             "#46039f"
            ],
            [
             0.2222222222222222,
             "#7201a8"
            ],
            [
             0.3333333333333333,
             "#9c179e"
            ],
            [
             0.4444444444444444,
             "#bd3786"
            ],
            [
             0.5555555555555556,
             "#d8576b"
            ],
            [
             0.6666666666666666,
             "#ed7953"
            ],
            [
             0.7777777777777778,
             "#fb9f3a"
            ],
            [
             0.8888888888888888,
             "#fdca26"
            ],
            [
             1,
             "#f0f921"
            ]
           ]
          },
          "colorway": [
           "#636efa",
           "#EF553B",
           "#00cc96",
           "#ab63fa",
           "#FFA15A",
           "#19d3f3",
           "#FF6692",
           "#B6E880",
           "#FF97FF",
           "#FECB52"
          ],
          "font": {
           "color": "#2a3f5f"
          },
          "geo": {
           "bgcolor": "white",
           "lakecolor": "white",
           "landcolor": "#E5ECF6",
           "showlakes": true,
           "showland": true,
           "subunitcolor": "white"
          },
          "hoverlabel": {
           "align": "left"
          },
          "hovermode": "closest",
          "mapbox": {
           "style": "light"
          },
          "paper_bgcolor": "white",
          "plot_bgcolor": "#E5ECF6",
          "polar": {
           "angularaxis": {
            "gridcolor": "white",
            "linecolor": "white",
            "ticks": ""
           },
           "bgcolor": "#E5ECF6",
           "radialaxis": {
            "gridcolor": "white",
            "linecolor": "white",
            "ticks": ""
           }
          },
          "scene": {
           "xaxis": {
            "backgroundcolor": "#E5ECF6",
            "gridcolor": "white",
            "gridwidth": 2,
            "linecolor": "white",
            "showbackground": true,
            "ticks": "",
            "zerolinecolor": "white"
           },
           "yaxis": {
            "backgroundcolor": "#E5ECF6",
            "gridcolor": "white",
            "gridwidth": 2,
            "linecolor": "white",
            "showbackground": true,
            "ticks": "",
            "zerolinecolor": "white"
           },
           "zaxis": {
            "backgroundcolor": "#E5ECF6",
            "gridcolor": "white",
            "gridwidth": 2,
            "linecolor": "white",
            "showbackground": true,
            "ticks": "",
            "zerolinecolor": "white"
           }
          },
          "shapedefaults": {
           "line": {
            "color": "#2a3f5f"
           }
          },
          "ternary": {
           "aaxis": {
            "gridcolor": "white",
            "linecolor": "white",
            "ticks": ""
           },
           "baxis": {
            "gridcolor": "white",
            "linecolor": "white",
            "ticks": ""
           },
           "bgcolor": "#E5ECF6",
           "caxis": {
            "gridcolor": "white",
            "linecolor": "white",
            "ticks": ""
           }
          },
          "title": {
           "x": 0.05
          },
          "xaxis": {
           "automargin": true,
           "gridcolor": "white",
           "linecolor": "white",
           "ticks": "",
           "title": {
            "standoff": 15
           },
           "zerolinecolor": "white",
           "zerolinewidth": 2
          },
          "yaxis": {
           "automargin": true,
           "gridcolor": "white",
           "linecolor": "white",
           "ticks": "",
           "title": {
            "standoff": 15
           },
           "zerolinecolor": "white",
           "zerolinewidth": 2
          }
         }
        },
        "title": {
         "text": "Average Named Entity Usage in 1972 vs 2023"
        },
        "xaxis": {
         "anchor": "y",
         "domain": [
          0,
          1
         ],
         "title": {
          "text": "Volume"
         }
        },
        "yaxis": {
         "anchor": "x",
         "domain": [
          0,
          1
         ],
         "title": {
          "text": "value"
         }
        }
       }
      },
      "text/html": [
       "<div>                            <div id=\"d4589bd2-ed72-439c-abc6-c3602c75bb75\" class=\"plotly-graph-div\" style=\"height:525px; width:100%;\"></div>            <script type=\"text/javascript\">                require([\"plotly\"], function(Plotly) {                    window.PLOTLYENV=window.PLOTLYENV || {};                                    if (document.getElementById(\"d4589bd2-ed72-439c-abc6-c3602c75bb75\")) {                    Plotly.newPlot(                        \"d4589bd2-ed72-439c-abc6-c3602c75bb75\",                        [{\"alignmentgroup\":\"True\",\"hovertemplate\":\"variable=PERSON_Counts\\u003cbr\\u003eVolume=%{x}\\u003cbr\\u003evalue=%{y}\\u003cextra\\u003e\\u003c\\u002fextra\\u003e\",\"legendgroup\":\"PERSON_Counts\",\"marker\":{\"color\":\"#636efa\",\"pattern\":{\"shape\":\"\"}},\"name\":\"PERSON_Counts\",\"offsetgroup\":\"PERSON_Counts\",\"orientation\":\"v\",\"showlegend\":true,\"textposition\":\"auto\",\"x\":[1972,2023],\"xaxis\":\"x\",\"y\":[2.0,3.0],\"yaxis\":\"y\",\"type\":\"bar\"},{\"alignmentgroup\":\"True\",\"hovertemplate\":\"variable=LOC_Counts\\u003cbr\\u003eVolume=%{x}\\u003cbr\\u003evalue=%{y}\\u003cextra\\u003e\\u003c\\u002fextra\\u003e\",\"legendgroup\":\"LOC_Counts\",\"marker\":{\"color\":\"#EF553B\",\"pattern\":{\"shape\":\"\"}},\"name\":\"LOC_Counts\",\"offsetgroup\":\"LOC_Counts\",\"orientation\":\"v\",\"showlegend\":true,\"textposition\":\"auto\",\"x\":[1972,2023],\"xaxis\":\"x\",\"y\":[0.0,1.0],\"yaxis\":\"y\",\"type\":\"bar\"},{\"alignmentgroup\":\"True\",\"hovertemplate\":\"variable=DATE_Counts\\u003cbr\\u003eVolume=%{x}\\u003cbr\\u003evalue=%{y}\\u003cextra\\u003e\\u003c\\u002fextra\\u003e\",\"legendgroup\":\"DATE_Counts\",\"marker\":{\"color\":\"#00cc96\",\"pattern\":{\"shape\":\"\"}},\"name\":\"DATE_Counts\",\"offsetgroup\":\"DATE_Counts\",\"orientation\":\"v\",\"showlegend\":true,\"textposition\":\"auto\",\"x\":[1972,2023],\"xaxis\":\"x\",\"y\":[1.0,7.0],\"yaxis\":\"y\",\"type\":\"bar\"}],                        {\"template\":{\"data\":{\"histogram2dcontour\":[{\"type\":\"histogram2dcontour\",\"colorbar\":{\"outlinewidth\":0,\"ticks\":\"\"},\"colorscale\":[[0.0,\"#0d0887\"],[0.1111111111111111,\"#46039f\"],[0.2222222222222222,\"#7201a8\"],[0.3333333333333333,\"#9c179e\"],[0.4444444444444444,\"#bd3786\"],[0.5555555555555556,\"#d8576b\"],[0.6666666666666666,\"#ed7953\"],[0.7777777777777778,\"#fb9f3a\"],[0.8888888888888888,\"#fdca26\"],[1.0,\"#f0f921\"]]}],\"choropleth\":[{\"type\":\"choropleth\",\"colorbar\":{\"outlinewidth\":0,\"ticks\":\"\"}}],\"histogram2d\":[{\"type\":\"histogram2d\",\"colorbar\":{\"outlinewidth\":0,\"ticks\":\"\"},\"colorscale\":[[0.0,\"#0d0887\"],[0.1111111111111111,\"#46039f\"],[0.2222222222222222,\"#7201a8\"],[0.3333333333333333,\"#9c179e\"],[0.4444444444444444,\"#bd3786\"],[0.5555555555555556,\"#d8576b\"],[0.6666666666666666,\"#ed7953\"],[0.7777777777777778,\"#fb9f3a\"],[0.8888888888888888,\"#fdca26\"],[1.0,\"#f0f921\"]]}],\"heatmap\":[{\"type\":\"heatmap\",\"colorbar\":{\"outlinewidth\":0,\"ticks\":\"\"},\"colorscale\":[[0.0,\"#0d0887\"],[0.1111111111111111,\"#46039f\"],[0.2222222222222222,\"#7201a8\"],[0.3333333333333333,\"#9c179e\"],[0.4444444444444444,\"#bd3786\"],[0.5555555555555556,\"#d8576b\"],[0.6666666666666666,\"#ed7953\"],[0.7777777777777778,\"#fb9f3a\"],[0.8888888888888888,\"#fdca26\"],[1.0,\"#f0f921\"]]}],\"heatmapgl\":[{\"type\":\"heatmapgl\",\"colorbar\":{\"outlinewidth\":0,\"ticks\":\"\"},\"colorscale\":[[0.0,\"#0d0887\"],[0.1111111111111111,\"#46039f\"],[0.2222222222222222,\"#7201a8\"],[0.3333333333333333,\"#9c179e\"],[0.4444444444444444,\"#bd3786\"],[0.5555555555555556,\"#d8576b\"],[0.6666666666666666,\"#ed7953\"],[0.7777777777777778,\"#fb9f3a\"],[0.8888888888888888,\"#fdca26\"],[1.0,\"#f0f921\"]]}],\"contourcarpet\":[{\"type\":\"contourcarpet\",\"colorbar\":{\"outlinewidth\":0,\"ticks\":\"\"}}],\"contour\":[{\"type\":\"contour\",\"colorbar\":{\"outlinewidth\":0,\"ticks\":\"\"},\"colorscale\":[[0.0,\"#0d0887\"],[0.1111111111111111,\"#46039f\"],[0.2222222222222222,\"#7201a8\"],[0.3333333333333333,\"#9c179e\"],[0.4444444444444444,\"#bd3786\"],[0.5555555555555556,\"#d8576b\"],[0.6666666666666666,\"#ed7953\"],[0.7777777777777778,\"#fb9f3a\"],[0.8888888888888888,\"#fdca26\"],[1.0,\"#f0f921\"]]}],\"surface\":[{\"type\":\"surface\",\"colorbar\":{\"outlinewidth\":0,\"ticks\":\"\"},\"colorscale\":[[0.0,\"#0d0887\"],[0.1111111111111111,\"#46039f\"],[0.2222222222222222,\"#7201a8\"],[0.3333333333333333,\"#9c179e\"],[0.4444444444444444,\"#bd3786\"],[0.5555555555555556,\"#d8576b\"],[0.6666666666666666,\"#ed7953\"],[0.7777777777777778,\"#fb9f3a\"],[0.8888888888888888,\"#fdca26\"],[1.0,\"#f0f921\"]]}],\"mesh3d\":[{\"type\":\"mesh3d\",\"colorbar\":{\"outlinewidth\":0,\"ticks\":\"\"}}],\"scatter\":[{\"fillpattern\":{\"fillmode\":\"overlay\",\"size\":10,\"solidity\":0.2},\"type\":\"scatter\"}],\"parcoords\":[{\"type\":\"parcoords\",\"line\":{\"colorbar\":{\"outlinewidth\":0,\"ticks\":\"\"}}}],\"scatterpolargl\":[{\"type\":\"scatterpolargl\",\"marker\":{\"colorbar\":{\"outlinewidth\":0,\"ticks\":\"\"}}}],\"bar\":[{\"error_x\":{\"color\":\"#2a3f5f\"},\"error_y\":{\"color\":\"#2a3f5f\"},\"marker\":{\"line\":{\"color\":\"#E5ECF6\",\"width\":0.5},\"pattern\":{\"fillmode\":\"overlay\",\"size\":10,\"solidity\":0.2}},\"type\":\"bar\"}],\"scattergeo\":[{\"type\":\"scattergeo\",\"marker\":{\"colorbar\":{\"outlinewidth\":0,\"ticks\":\"\"}}}],\"scatterpolar\":[{\"type\":\"scatterpolar\",\"marker\":{\"colorbar\":{\"outlinewidth\":0,\"ticks\":\"\"}}}],\"histogram\":[{\"marker\":{\"pattern\":{\"fillmode\":\"overlay\",\"size\":10,\"solidity\":0.2}},\"type\":\"histogram\"}],\"scattergl\":[{\"type\":\"scattergl\",\"marker\":{\"colorbar\":{\"outlinewidth\":0,\"ticks\":\"\"}}}],\"scatter3d\":[{\"type\":\"scatter3d\",\"line\":{\"colorbar\":{\"outlinewidth\":0,\"ticks\":\"\"}},\"marker\":{\"colorbar\":{\"outlinewidth\":0,\"ticks\":\"\"}}}],\"scattermapbox\":[{\"type\":\"scattermapbox\",\"marker\":{\"colorbar\":{\"outlinewidth\":0,\"ticks\":\"\"}}}],\"scatterternary\":[{\"type\":\"scatterternary\",\"marker\":{\"colorbar\":{\"outlinewidth\":0,\"ticks\":\"\"}}}],\"scattercarpet\":[{\"type\":\"scattercarpet\",\"marker\":{\"colorbar\":{\"outlinewidth\":0,\"ticks\":\"\"}}}],\"carpet\":[{\"aaxis\":{\"endlinecolor\":\"#2a3f5f\",\"gridcolor\":\"white\",\"linecolor\":\"white\",\"minorgridcolor\":\"white\",\"startlinecolor\":\"#2a3f5f\"},\"baxis\":{\"endlinecolor\":\"#2a3f5f\",\"gridcolor\":\"white\",\"linecolor\":\"white\",\"minorgridcolor\":\"white\",\"startlinecolor\":\"#2a3f5f\"},\"type\":\"carpet\"}],\"table\":[{\"cells\":{\"fill\":{\"color\":\"#EBF0F8\"},\"line\":{\"color\":\"white\"}},\"header\":{\"fill\":{\"color\":\"#C8D4E3\"},\"line\":{\"color\":\"white\"}},\"type\":\"table\"}],\"barpolar\":[{\"marker\":{\"line\":{\"color\":\"#E5ECF6\",\"width\":0.5},\"pattern\":{\"fillmode\":\"overlay\",\"size\":10,\"solidity\":0.2}},\"type\":\"barpolar\"}],\"pie\":[{\"automargin\":true,\"type\":\"pie\"}]},\"layout\":{\"autotypenumbers\":\"strict\",\"colorway\":[\"#636efa\",\"#EF553B\",\"#00cc96\",\"#ab63fa\",\"#FFA15A\",\"#19d3f3\",\"#FF6692\",\"#B6E880\",\"#FF97FF\",\"#FECB52\"],\"font\":{\"color\":\"#2a3f5f\"},\"hovermode\":\"closest\",\"hoverlabel\":{\"align\":\"left\"},\"paper_bgcolor\":\"white\",\"plot_bgcolor\":\"#E5ECF6\",\"polar\":{\"bgcolor\":\"#E5ECF6\",\"angularaxis\":{\"gridcolor\":\"white\",\"linecolor\":\"white\",\"ticks\":\"\"},\"radialaxis\":{\"gridcolor\":\"white\",\"linecolor\":\"white\",\"ticks\":\"\"}},\"ternary\":{\"bgcolor\":\"#E5ECF6\",\"aaxis\":{\"gridcolor\":\"white\",\"linecolor\":\"white\",\"ticks\":\"\"},\"baxis\":{\"gridcolor\":\"white\",\"linecolor\":\"white\",\"ticks\":\"\"},\"caxis\":{\"gridcolor\":\"white\",\"linecolor\":\"white\",\"ticks\":\"\"}},\"coloraxis\":{\"colorbar\":{\"outlinewidth\":0,\"ticks\":\"\"}},\"colorscale\":{\"sequential\":[[0.0,\"#0d0887\"],[0.1111111111111111,\"#46039f\"],[0.2222222222222222,\"#7201a8\"],[0.3333333333333333,\"#9c179e\"],[0.4444444444444444,\"#bd3786\"],[0.5555555555555556,\"#d8576b\"],[0.6666666666666666,\"#ed7953\"],[0.7777777777777778,\"#fb9f3a\"],[0.8888888888888888,\"#fdca26\"],[1.0,\"#f0f921\"]],\"sequentialminus\":[[0.0,\"#0d0887\"],[0.1111111111111111,\"#46039f\"],[0.2222222222222222,\"#7201a8\"],[0.3333333333333333,\"#9c179e\"],[0.4444444444444444,\"#bd3786\"],[0.5555555555555556,\"#d8576b\"],[0.6666666666666666,\"#ed7953\"],[0.7777777777777778,\"#fb9f3a\"],[0.8888888888888888,\"#fdca26\"],[1.0,\"#f0f921\"]],\"diverging\":[[0,\"#8e0152\"],[0.1,\"#c51b7d\"],[0.2,\"#de77ae\"],[0.3,\"#f1b6da\"],[0.4,\"#fde0ef\"],[0.5,\"#f7f7f7\"],[0.6,\"#e6f5d0\"],[0.7,\"#b8e186\"],[0.8,\"#7fbc41\"],[0.9,\"#4d9221\"],[1,\"#276419\"]]},\"xaxis\":{\"gridcolor\":\"white\",\"linecolor\":\"white\",\"ticks\":\"\",\"title\":{\"standoff\":15},\"zerolinecolor\":\"white\",\"automargin\":true,\"zerolinewidth\":2},\"yaxis\":{\"gridcolor\":\"white\",\"linecolor\":\"white\",\"ticks\":\"\",\"title\":{\"standoff\":15},\"zerolinecolor\":\"white\",\"automargin\":true,\"zerolinewidth\":2},\"scene\":{\"xaxis\":{\"backgroundcolor\":\"#E5ECF6\",\"gridcolor\":\"white\",\"linecolor\":\"white\",\"showbackground\":true,\"ticks\":\"\",\"zerolinecolor\":\"white\",\"gridwidth\":2},\"yaxis\":{\"backgroundcolor\":\"#E5ECF6\",\"gridcolor\":\"white\",\"linecolor\":\"white\",\"showbackground\":true,\"ticks\":\"\",\"zerolinecolor\":\"white\",\"gridwidth\":2},\"zaxis\":{\"backgroundcolor\":\"#E5ECF6\",\"gridcolor\":\"white\",\"linecolor\":\"white\",\"showbackground\":true,\"ticks\":\"\",\"zerolinecolor\":\"white\",\"gridwidth\":2}},\"shapedefaults\":{\"line\":{\"color\":\"#2a3f5f\"}},\"annotationdefaults\":{\"arrowcolor\":\"#2a3f5f\",\"arrowhead\":0,\"arrowwidth\":1},\"geo\":{\"bgcolor\":\"white\",\"landcolor\":\"#E5ECF6\",\"subunitcolor\":\"white\",\"showland\":true,\"showlakes\":true,\"lakecolor\":\"white\"},\"title\":{\"x\":0.05},\"mapbox\":{\"style\":\"light\"}}},\"xaxis\":{\"anchor\":\"y\",\"domain\":[0.0,1.0],\"title\":{\"text\":\"Volume\"}},\"yaxis\":{\"anchor\":\"x\",\"domain\":[0.0,1.0],\"title\":{\"text\":\"value\"}},\"legend\":{\"title\":{\"text\":\"variable\"},\"tracegroupgap\":0},\"title\":{\"text\":\"Average Named Entity Usage in 1972 vs 2023\"},\"barmode\":\"group\"},                        {\"responsive\": true}                    ).then(function(){\n",
       "                            \n",
       "var gd = document.getElementById('d4589bd2-ed72-439c-abc6-c3602c75bb75');\n",
       "var x = new MutationObserver(function (mutations, observer) {{\n",
       "        var display = window.getComputedStyle(gd).display;\n",
       "        if (!display || display === 'none') {{\n",
       "            console.log([gd, 'removed!']);\n",
       "            Plotly.purge(gd);\n",
       "            observer.disconnect();\n",
       "        }}\n",
       "}});\n",
       "\n",
       "// Listen for the removal of the full notebook cells\n",
       "var notebookContainer = gd.closest('#notebook-container');\n",
       "if (notebookContainer) {{\n",
       "    x.observe(notebookContainer, {childList: true});\n",
       "}}\n",
       "\n",
       "// Listen for the clearing of the current output cell\n",
       "var outputEl = gd.closest('.output');\n",
       "if (outputEl) {{\n",
       "    x.observe(outputEl, {childList: true});\n",
       "}}\n",
       "\n",
       "                        })                };                });            </script>        </div>"
      ]
     },
     "metadata": {},
     "output_type": "display_data"
    }
   ],
   "source": [
    "# Calculate average usage of each named entity type\n",
    "average_ner_df = ner_counts_df.groupby(['Volume']).mean()\n",
    "average_ner_df = average_ner_df.round(0)\n",
    "average_ner_df = average_ner_df.reset_index()\n",
    "average_ner_df\n",
    "\n",
    "# Use plotly to plot proper noun use per genre\n",
    "fig = px.bar(average_ner_df, x=\"Volume\", y=[\"PERSON_Counts\", 'LOC_Counts', \"DATE_Counts\"], title=\"Average Named Entity Usage in 1972 vs 2023\", barmode='group')\n",
    "fig.show()"
   ]
  },
  {
   "cell_type": "markdown",
   "id": "700fae63",
   "metadata": {},
   "source": [
    "It seems that in later volumes, more dates are used (possibly from citing more literature) as opposed to the first volume. The 2023 journals average 7 words, while in 1972, those journals averaged only 1. Additionally, spaCy recoginzed more locations in the 2023 volume, whereas there were no locations recoginzed within the first journal volume. "
   ]
  }
 ],
 "metadata": {
  "kernelspec": {
   "display_name": "Python 3 (ipykernel)",
   "language": "python",
   "name": "python3"
  },
  "language_info": {
   "codemirror_mode": {
    "name": "ipython",
    "version": 3
   },
   "file_extension": ".py",
   "mimetype": "text/x-python",
   "name": "python",
   "nbconvert_exporter": "python",
   "pygments_lexer": "ipython3",
   "version": "3.11.4"
  }
 },
 "nbformat": 4,
 "nbformat_minor": 5
}
